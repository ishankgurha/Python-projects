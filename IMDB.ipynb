{
 "cells": [
  {
   "cell_type": "markdown",
   "id": "ad71f2d4-2fd9-4e02-ad6c-029308fb9053",
   "metadata": {},
   "source": [
    "# Importing Libraries"
   ]
  },
  {
   "cell_type": "code",
   "execution_count": 1,
   "id": "aa76fa25-71d7-49eb-bd18-6b215abe888b",
   "metadata": {},
   "outputs": [],
   "source": [
    "import pandas as pd\n",
    "import matplotlib.pyplot as mp\n",
    "import seaborn as sns\n",
    "import numpy as np"
   ]
  },
  {
   "cell_type": "markdown",
   "id": "a85ce929-8298-4e02-974d-6b1b41c17d5e",
   "metadata": {},
   "source": [
    "# Loading Dataset"
   ]
  },
  {
   "cell_type": "code",
   "execution_count": 7,
   "id": "e3231c36-9530-4f16-839d-61a7b91a1b28",
   "metadata": {},
   "outputs": [
    {
     "data": {
      "text/html": [
       "<div>\n",
       "<style scoped>\n",
       "    .dataframe tbody tr th:only-of-type {\n",
       "        vertical-align: middle;\n",
       "    }\n",
       "\n",
       "    .dataframe tbody tr th {\n",
       "        vertical-align: top;\n",
       "    }\n",
       "\n",
       "    .dataframe thead th {\n",
       "        text-align: right;\n",
       "    }\n",
       "</style>\n",
       "<table border=\"1\" class=\"dataframe\">\n",
       "  <thead>\n",
       "    <tr style=\"text-align: right;\">\n",
       "      <th></th>\n",
       "      <th>rank</th>\n",
       "      <th>movie_id</th>\n",
       "      <th>title</th>\n",
       "      <th>year</th>\n",
       "      <th>link</th>\n",
       "      <th>imbd_votes</th>\n",
       "      <th>imbd_rating</th>\n",
       "      <th>certificate</th>\n",
       "      <th>duration</th>\n",
       "      <th>genre</th>\n",
       "      <th>...</th>\n",
       "      <th>director_id</th>\n",
       "      <th>director_name</th>\n",
       "      <th>writer_id</th>\n",
       "      <th>writer_name</th>\n",
       "      <th>storyline</th>\n",
       "      <th>user_id</th>\n",
       "      <th>user_name</th>\n",
       "      <th>review_id</th>\n",
       "      <th>review_title</th>\n",
       "      <th>review_content</th>\n",
       "    </tr>\n",
       "  </thead>\n",
       "  <tbody>\n",
       "    <tr>\n",
       "      <th>0</th>\n",
       "      <td>1</td>\n",
       "      <td>tt0111161</td>\n",
       "      <td>The Shawshank Redemption</td>\n",
       "      <td>1994</td>\n",
       "      <td>https://www.imdb.com/title/tt0111161</td>\n",
       "      <td>2,711,075</td>\n",
       "      <td>9.3</td>\n",
       "      <td>R</td>\n",
       "      <td>2h 22m</td>\n",
       "      <td>Drama</td>\n",
       "      <td>...</td>\n",
       "      <td>nm0001104</td>\n",
       "      <td>Frank Darabont</td>\n",
       "      <td>nm0000175,nm0001104</td>\n",
       "      <td>Stephen King,Frank Darabont</td>\n",
       "      <td>Over the course of several years, two convicts...</td>\n",
       "      <td>ur16161013,ur15311310,ur0265899,ur16117882,ur1...</td>\n",
       "      <td>hitchcockthelegend,Sleepin_Dragon,EyeDunno,ale...</td>\n",
       "      <td>rw2284594,rw6606154,rw1221355,rw1822343,rw1288...</td>\n",
       "      <td>Some birds aren't meant to be caged.,An incred...</td>\n",
       "      <td>The Shawshank Redemption is written and direct...</td>\n",
       "    </tr>\n",
       "    <tr>\n",
       "      <th>1</th>\n",
       "      <td>2</td>\n",
       "      <td>tt0068646</td>\n",
       "      <td>The Godfather</td>\n",
       "      <td>1972</td>\n",
       "      <td>https://www.imdb.com/title/tt0068646</td>\n",
       "      <td>1,882,829</td>\n",
       "      <td>9.2</td>\n",
       "      <td>R</td>\n",
       "      <td>2h 55m</td>\n",
       "      <td>Crime,Drama</td>\n",
       "      <td>...</td>\n",
       "      <td>nm0000338</td>\n",
       "      <td>Francis Ford Coppola</td>\n",
       "      <td>nm0701374,nm0000338</td>\n",
       "      <td>Mario Puzo,Francis Ford Coppola</td>\n",
       "      <td>The aging patriarch of an organized crime dyna...</td>\n",
       "      <td>ur24740649,ur86182727,ur15794099,ur15311310,ur...</td>\n",
       "      <td>CalRhys,andrewburgereviews,gogoschka-1,Sleepin...</td>\n",
       "      <td>rw3038370,rw4756923,rw4059579,rw6568526,rw1897...</td>\n",
       "      <td>The Pinnacle Of Flawless Films!,An offer so go...</td>\n",
       "      <td>'The Godfather' is the pinnacle of flawless fi...</td>\n",
       "    </tr>\n",
       "  </tbody>\n",
       "</table>\n",
       "<p>2 rows × 22 columns</p>\n",
       "</div>"
      ],
      "text/plain": [
       "   rank   movie_id                     title  year  \\\n",
       "0     1  tt0111161  The Shawshank Redemption  1994   \n",
       "1     2  tt0068646             The Godfather  1972   \n",
       "\n",
       "                                   link imbd_votes  imbd_rating certificate  \\\n",
       "0  https://www.imdb.com/title/tt0111161  2,711,075          9.3           R   \n",
       "1  https://www.imdb.com/title/tt0068646  1,882,829          9.2           R   \n",
       "\n",
       "  duration        genre  ... director_id         director_name  \\\n",
       "0   2h 22m        Drama  ...   nm0001104        Frank Darabont   \n",
       "1   2h 55m  Crime,Drama  ...   nm0000338  Francis Ford Coppola   \n",
       "\n",
       "             writer_id                      writer_name  \\\n",
       "0  nm0000175,nm0001104      Stephen King,Frank Darabont   \n",
       "1  nm0701374,nm0000338  Mario Puzo,Francis Ford Coppola   \n",
       "\n",
       "                                           storyline  \\\n",
       "0  Over the course of several years, two convicts...   \n",
       "1  The aging patriarch of an organized crime dyna...   \n",
       "\n",
       "                                             user_id  \\\n",
       "0  ur16161013,ur15311310,ur0265899,ur16117882,ur1...   \n",
       "1  ur24740649,ur86182727,ur15794099,ur15311310,ur...   \n",
       "\n",
       "                                           user_name  \\\n",
       "0  hitchcockthelegend,Sleepin_Dragon,EyeDunno,ale...   \n",
       "1  CalRhys,andrewburgereviews,gogoschka-1,Sleepin...   \n",
       "\n",
       "                                           review_id  \\\n",
       "0  rw2284594,rw6606154,rw1221355,rw1822343,rw1288...   \n",
       "1  rw3038370,rw4756923,rw4059579,rw6568526,rw1897...   \n",
       "\n",
       "                                        review_title  \\\n",
       "0  Some birds aren't meant to be caged.,An incred...   \n",
       "1  The Pinnacle Of Flawless Films!,An offer so go...   \n",
       "\n",
       "                                      review_content  \n",
       "0  The Shawshank Redemption is written and direct...  \n",
       "1  'The Godfather' is the pinnacle of flawless fi...  \n",
       "\n",
       "[2 rows x 22 columns]"
      ]
     },
     "execution_count": 7,
     "metadata": {},
     "output_type": "execute_result"
    }
   ],
   "source": [
    "df = pd.read_csv(\"movies.csv\")\n",
    "df.head(2)"
   ]
  },
  {
   "cell_type": "markdown",
   "id": "867e3489-81bc-420c-899e-b750a365c315",
   "metadata": {},
   "source": [
    "# Inspecting the Dataset"
   ]
  },
  {
   "cell_type": "code",
   "execution_count": 3,
   "id": "b578b8d9-252b-4580-afbf-417b9b9c0819",
   "metadata": {},
   "outputs": [
    {
     "name": "stdout",
     "output_type": "stream",
     "text": [
      "<class 'pandas.core.frame.DataFrame'>\n",
      "RangeIndex: 250 entries, 0 to 249\n",
      "Data columns (total 22 columns):\n",
      " #   Column          Non-Null Count  Dtype  \n",
      "---  ------          --------------  -----  \n",
      " 0   rank            250 non-null    int64  \n",
      " 1   movie_id        250 non-null    object \n",
      " 2   title           250 non-null    object \n",
      " 3   year            250 non-null    int64  \n",
      " 4   link            250 non-null    object \n",
      " 5   imbd_votes      250 non-null    object \n",
      " 6   imbd_rating     250 non-null    float64\n",
      " 7   certificate     249 non-null    object \n",
      " 8   duration        250 non-null    object \n",
      " 9   genre           250 non-null    object \n",
      " 10  cast_id         250 non-null    object \n",
      " 11  cast_name       250 non-null    object \n",
      " 12  director_id     250 non-null    object \n",
      " 13  director_name   250 non-null    object \n",
      " 14  writer_id       250 non-null    object \n",
      " 15  writer_name     250 non-null    object \n",
      " 16  storyline       250 non-null    object \n",
      " 17  user_id         250 non-null    object \n",
      " 18  user_name       250 non-null    object \n",
      " 19  review_id       250 non-null    object \n",
      " 20  review_title    250 non-null    object \n",
      " 21  review_content  250 non-null    object \n",
      "dtypes: float64(1), int64(2), object(19)\n",
      "memory usage: 43.1+ KB\n"
     ]
    }
   ],
   "source": [
    "df.info()"
   ]
  },
  {
   "cell_type": "code",
   "execution_count": 4,
   "id": "211ecb6e-7caf-444e-b204-b57578fe3129",
   "metadata": {},
   "outputs": [
    {
     "data": {
      "text/html": [
       "<div>\n",
       "<style scoped>\n",
       "    .dataframe tbody tr th:only-of-type {\n",
       "        vertical-align: middle;\n",
       "    }\n",
       "\n",
       "    .dataframe tbody tr th {\n",
       "        vertical-align: top;\n",
       "    }\n",
       "\n",
       "    .dataframe thead th {\n",
       "        text-align: right;\n",
       "    }\n",
       "</style>\n",
       "<table border=\"1\" class=\"dataframe\">\n",
       "  <thead>\n",
       "    <tr style=\"text-align: right;\">\n",
       "      <th></th>\n",
       "      <th>rank</th>\n",
       "      <th>year</th>\n",
       "      <th>imbd_rating</th>\n",
       "    </tr>\n",
       "  </thead>\n",
       "  <tbody>\n",
       "    <tr>\n",
       "      <th>count</th>\n",
       "      <td>250.000000</td>\n",
       "      <td>250.000000</td>\n",
       "      <td>250.000000</td>\n",
       "    </tr>\n",
       "    <tr>\n",
       "      <th>mean</th>\n",
       "      <td>125.500000</td>\n",
       "      <td>1986.360000</td>\n",
       "      <td>8.306800</td>\n",
       "    </tr>\n",
       "    <tr>\n",
       "      <th>std</th>\n",
       "      <td>72.312977</td>\n",
       "      <td>25.125356</td>\n",
       "      <td>0.229006</td>\n",
       "    </tr>\n",
       "    <tr>\n",
       "      <th>min</th>\n",
       "      <td>1.000000</td>\n",
       "      <td>1921.000000</td>\n",
       "      <td>8.000000</td>\n",
       "    </tr>\n",
       "    <tr>\n",
       "      <th>25%</th>\n",
       "      <td>63.250000</td>\n",
       "      <td>1966.250000</td>\n",
       "      <td>8.100000</td>\n",
       "    </tr>\n",
       "    <tr>\n",
       "      <th>50%</th>\n",
       "      <td>125.500000</td>\n",
       "      <td>1994.000000</td>\n",
       "      <td>8.200000</td>\n",
       "    </tr>\n",
       "    <tr>\n",
       "      <th>75%</th>\n",
       "      <td>187.750000</td>\n",
       "      <td>2006.000000</td>\n",
       "      <td>8.400000</td>\n",
       "    </tr>\n",
       "    <tr>\n",
       "      <th>max</th>\n",
       "      <td>250.000000</td>\n",
       "      <td>2022.000000</td>\n",
       "      <td>9.300000</td>\n",
       "    </tr>\n",
       "  </tbody>\n",
       "</table>\n",
       "</div>"
      ],
      "text/plain": [
       "             rank         year  imbd_rating\n",
       "count  250.000000   250.000000   250.000000\n",
       "mean   125.500000  1986.360000     8.306800\n",
       "std     72.312977    25.125356     0.229006\n",
       "min      1.000000  1921.000000     8.000000\n",
       "25%     63.250000  1966.250000     8.100000\n",
       "50%    125.500000  1994.000000     8.200000\n",
       "75%    187.750000  2006.000000     8.400000\n",
       "max    250.000000  2022.000000     9.300000"
      ]
     },
     "execution_count": 4,
     "metadata": {},
     "output_type": "execute_result"
    }
   ],
   "source": [
    "df.describe()"
   ]
  },
  {
   "cell_type": "code",
   "execution_count": 5,
   "id": "ecf783dc-d736-4145-bf95-8aafe793f0fc",
   "metadata": {},
   "outputs": [
    {
     "data": {
      "text/plain": [
       "rank              0\n",
       "movie_id          0\n",
       "title             0\n",
       "year              0\n",
       "link              0\n",
       "imbd_votes        0\n",
       "imbd_rating       0\n",
       "certificate       1\n",
       "duration          0\n",
       "genre             0\n",
       "cast_id           0\n",
       "cast_name         0\n",
       "director_id       0\n",
       "director_name     0\n",
       "writer_id         0\n",
       "writer_name       0\n",
       "storyline         0\n",
       "user_id           0\n",
       "user_name         0\n",
       "review_id         0\n",
       "review_title      0\n",
       "review_content    0\n",
       "dtype: int64"
      ]
     },
     "execution_count": 5,
     "metadata": {},
     "output_type": "execute_result"
    }
   ],
   "source": [
    "df.isnull().sum()"
   ]
  },
  {
   "cell_type": "markdown",
   "id": "8905565a-f304-42af-87ed-54f4b62ca7df",
   "metadata": {},
   "source": [
    "# Data Cleaning & Processing"
   ]
  },
  {
   "cell_type": "code",
   "execution_count": 14,
   "id": "9ca6b051-6927-401f-832b-a25261de2a2e",
   "metadata": {},
   "outputs": [],
   "source": [
    "df = df.drop([\"certificate\",'director_id','writer_id','user_id','user_name','review_id','review_title','storyline','cast_id','cast_name','review_content',],axis = 1)"
   ]
  },
  {
   "cell_type": "code",
   "execution_count": 9,
   "id": "498528d2-e70d-4ef3-bcb5-77bd74a077cb",
   "metadata": {},
   "outputs": [
    {
     "data": {
      "text/html": [
       "<div>\n",
       "<style scoped>\n",
       "    .dataframe tbody tr th:only-of-type {\n",
       "        vertical-align: middle;\n",
       "    }\n",
       "\n",
       "    .dataframe tbody tr th {\n",
       "        vertical-align: top;\n",
       "    }\n",
       "\n",
       "    .dataframe thead th {\n",
       "        text-align: right;\n",
       "    }\n",
       "</style>\n",
       "<table border=\"1\" class=\"dataframe\">\n",
       "  <thead>\n",
       "    <tr style=\"text-align: right;\">\n",
       "      <th></th>\n",
       "      <th>rank</th>\n",
       "      <th>movie_id</th>\n",
       "      <th>title</th>\n",
       "      <th>year</th>\n",
       "      <th>link</th>\n",
       "      <th>imdb_votes</th>\n",
       "      <th>imdb_rating</th>\n",
       "      <th>certificate</th>\n",
       "      <th>duration</th>\n",
       "      <th>genre</th>\n",
       "      <th>...</th>\n",
       "      <th>director_id</th>\n",
       "      <th>director_name</th>\n",
       "      <th>writer_id</th>\n",
       "      <th>writer_name</th>\n",
       "      <th>storyline</th>\n",
       "      <th>user_id</th>\n",
       "      <th>user_name</th>\n",
       "      <th>review_id</th>\n",
       "      <th>review_title</th>\n",
       "      <th>review_content</th>\n",
       "    </tr>\n",
       "  </thead>\n",
       "  <tbody>\n",
       "    <tr>\n",
       "      <th>0</th>\n",
       "      <td>1</td>\n",
       "      <td>tt0111161</td>\n",
       "      <td>The Shawshank Redemption</td>\n",
       "      <td>1994</td>\n",
       "      <td>https://www.imdb.com/title/tt0111161</td>\n",
       "      <td>2,711,075</td>\n",
       "      <td>9.3</td>\n",
       "      <td>R</td>\n",
       "      <td>2h 22m</td>\n",
       "      <td>Drama</td>\n",
       "      <td>...</td>\n",
       "      <td>nm0001104</td>\n",
       "      <td>Frank Darabont</td>\n",
       "      <td>nm0000175,nm0001104</td>\n",
       "      <td>Stephen King,Frank Darabont</td>\n",
       "      <td>Over the course of several years, two convicts...</td>\n",
       "      <td>ur16161013,ur15311310,ur0265899,ur16117882,ur1...</td>\n",
       "      <td>hitchcockthelegend,Sleepin_Dragon,EyeDunno,ale...</td>\n",
       "      <td>rw2284594,rw6606154,rw1221355,rw1822343,rw1288...</td>\n",
       "      <td>Some birds aren't meant to be caged.,An incred...</td>\n",
       "      <td>The Shawshank Redemption is written and direct...</td>\n",
       "    </tr>\n",
       "    <tr>\n",
       "      <th>1</th>\n",
       "      <td>2</td>\n",
       "      <td>tt0068646</td>\n",
       "      <td>The Godfather</td>\n",
       "      <td>1972</td>\n",
       "      <td>https://www.imdb.com/title/tt0068646</td>\n",
       "      <td>1,882,829</td>\n",
       "      <td>9.2</td>\n",
       "      <td>R</td>\n",
       "      <td>2h 55m</td>\n",
       "      <td>Crime,Drama</td>\n",
       "      <td>...</td>\n",
       "      <td>nm0000338</td>\n",
       "      <td>Francis Ford Coppola</td>\n",
       "      <td>nm0701374,nm0000338</td>\n",
       "      <td>Mario Puzo,Francis Ford Coppola</td>\n",
       "      <td>The aging patriarch of an organized crime dyna...</td>\n",
       "      <td>ur24740649,ur86182727,ur15794099,ur15311310,ur...</td>\n",
       "      <td>CalRhys,andrewburgereviews,gogoschka-1,Sleepin...</td>\n",
       "      <td>rw3038370,rw4756923,rw4059579,rw6568526,rw1897...</td>\n",
       "      <td>The Pinnacle Of Flawless Films!,An offer so go...</td>\n",
       "      <td>'The Godfather' is the pinnacle of flawless fi...</td>\n",
       "    </tr>\n",
       "  </tbody>\n",
       "</table>\n",
       "<p>2 rows × 22 columns</p>\n",
       "</div>"
      ],
      "text/plain": [
       "   rank   movie_id                     title  year  \\\n",
       "0     1  tt0111161  The Shawshank Redemption  1994   \n",
       "1     2  tt0068646             The Godfather  1972   \n",
       "\n",
       "                                   link imdb_votes  imdb_rating certificate  \\\n",
       "0  https://www.imdb.com/title/tt0111161  2,711,075          9.3           R   \n",
       "1  https://www.imdb.com/title/tt0068646  1,882,829          9.2           R   \n",
       "\n",
       "  duration        genre  ... director_id         director_name  \\\n",
       "0   2h 22m        Drama  ...   nm0001104        Frank Darabont   \n",
       "1   2h 55m  Crime,Drama  ...   nm0000338  Francis Ford Coppola   \n",
       "\n",
       "             writer_id                      writer_name  \\\n",
       "0  nm0000175,nm0001104      Stephen King,Frank Darabont   \n",
       "1  nm0701374,nm0000338  Mario Puzo,Francis Ford Coppola   \n",
       "\n",
       "                                           storyline  \\\n",
       "0  Over the course of several years, two convicts...   \n",
       "1  The aging patriarch of an organized crime dyna...   \n",
       "\n",
       "                                             user_id  \\\n",
       "0  ur16161013,ur15311310,ur0265899,ur16117882,ur1...   \n",
       "1  ur24740649,ur86182727,ur15794099,ur15311310,ur...   \n",
       "\n",
       "                                           user_name  \\\n",
       "0  hitchcockthelegend,Sleepin_Dragon,EyeDunno,ale...   \n",
       "1  CalRhys,andrewburgereviews,gogoschka-1,Sleepin...   \n",
       "\n",
       "                                           review_id  \\\n",
       "0  rw2284594,rw6606154,rw1221355,rw1822343,rw1288...   \n",
       "1  rw3038370,rw4756923,rw4059579,rw6568526,rw1897...   \n",
       "\n",
       "                                        review_title  \\\n",
       "0  Some birds aren't meant to be caged.,An incred...   \n",
       "1  The Pinnacle Of Flawless Films!,An offer so go...   \n",
       "\n",
       "                                      review_content  \n",
       "0  The Shawshank Redemption is written and direct...  \n",
       "1  'The Godfather' is the pinnacle of flawless fi...  \n",
       "\n",
       "[2 rows x 22 columns]"
      ]
     },
     "execution_count": 9,
     "metadata": {},
     "output_type": "execute_result"
    }
   ],
   "source": [
    "df.rename(columns = {\"imbd_votes\":\"imdb_votes\",\"imbd_rating\":\"imdb_rating\"},inplace = True)\n",
    "df.head(2)"
   ]
  },
  {
   "cell_type": "code",
   "execution_count": 15,
   "id": "c1e3e2c3-d9cc-4ecf-977c-1bd77fce36d9",
   "metadata": {},
   "outputs": [
    {
     "data": {
      "text/html": [
       "<div>\n",
       "<style scoped>\n",
       "    .dataframe tbody tr th:only-of-type {\n",
       "        vertical-align: middle;\n",
       "    }\n",
       "\n",
       "    .dataframe tbody tr th {\n",
       "        vertical-align: top;\n",
       "    }\n",
       "\n",
       "    .dataframe thead th {\n",
       "        text-align: right;\n",
       "    }\n",
       "</style>\n",
       "<table border=\"1\" class=\"dataframe\">\n",
       "  <thead>\n",
       "    <tr style=\"text-align: right;\">\n",
       "      <th></th>\n",
       "      <th>rank</th>\n",
       "      <th>movie_id</th>\n",
       "      <th>title</th>\n",
       "      <th>year</th>\n",
       "      <th>link</th>\n",
       "      <th>imdb_votes</th>\n",
       "      <th>imdb_rating</th>\n",
       "      <th>duration</th>\n",
       "      <th>genre</th>\n",
       "      <th>director_name</th>\n",
       "      <th>writer_name</th>\n",
       "    </tr>\n",
       "  </thead>\n",
       "  <tbody>\n",
       "    <tr>\n",
       "      <th>0</th>\n",
       "      <td>1</td>\n",
       "      <td>tt0111161</td>\n",
       "      <td>The Shawshank Redemption</td>\n",
       "      <td>1994</td>\n",
       "      <td>https://www.imdb.com/title/tt0111161</td>\n",
       "      <td>2711075</td>\n",
       "      <td>9.3</td>\n",
       "      <td>2h 22m</td>\n",
       "      <td>Drama</td>\n",
       "      <td>Frank Darabont</td>\n",
       "      <td>Stephen King,Frank Darabont</td>\n",
       "    </tr>\n",
       "    <tr>\n",
       "      <th>1</th>\n",
       "      <td>2</td>\n",
       "      <td>tt0068646</td>\n",
       "      <td>The Godfather</td>\n",
       "      <td>1972</td>\n",
       "      <td>https://www.imdb.com/title/tt0068646</td>\n",
       "      <td>1882829</td>\n",
       "      <td>9.2</td>\n",
       "      <td>2h 55m</td>\n",
       "      <td>Crime,Drama</td>\n",
       "      <td>Francis Ford Coppola</td>\n",
       "      <td>Mario Puzo,Francis Ford Coppola</td>\n",
       "    </tr>\n",
       "  </tbody>\n",
       "</table>\n",
       "</div>"
      ],
      "text/plain": [
       "   rank   movie_id                     title  year  \\\n",
       "0     1  tt0111161  The Shawshank Redemption  1994   \n",
       "1     2  tt0068646             The Godfather  1972   \n",
       "\n",
       "                                   link  imdb_votes  imdb_rating duration  \\\n",
       "0  https://www.imdb.com/title/tt0111161     2711075          9.3   2h 22m   \n",
       "1  https://www.imdb.com/title/tt0068646     1882829          9.2   2h 55m   \n",
       "\n",
       "         genre         director_name                      writer_name  \n",
       "0        Drama        Frank Darabont      Stephen King,Frank Darabont  \n",
       "1  Crime,Drama  Francis Ford Coppola  Mario Puzo,Francis Ford Coppola  "
      ]
     },
     "execution_count": 15,
     "metadata": {},
     "output_type": "execute_result"
    }
   ],
   "source": [
    "df[\"imdb_votes\"] = df[\"imdb_votes\"].str.replace(\",\",\"\").astype(int)\n",
    "df.head(2)"
   ]
  },
  {
   "cell_type": "code",
   "execution_count": 16,
   "id": "56870710-5f21-4241-b670-dc8297c839ea",
   "metadata": {},
   "outputs": [
    {
     "data": {
      "text/html": [
       "<div>\n",
       "<style scoped>\n",
       "    .dataframe tbody tr th:only-of-type {\n",
       "        vertical-align: middle;\n",
       "    }\n",
       "\n",
       "    .dataframe tbody tr th {\n",
       "        vertical-align: top;\n",
       "    }\n",
       "\n",
       "    .dataframe thead th {\n",
       "        text-align: right;\n",
       "    }\n",
       "</style>\n",
       "<table border=\"1\" class=\"dataframe\">\n",
       "  <thead>\n",
       "    <tr style=\"text-align: right;\">\n",
       "      <th></th>\n",
       "      <th>rank</th>\n",
       "      <th>movie_id</th>\n",
       "      <th>title</th>\n",
       "      <th>year</th>\n",
       "      <th>link</th>\n",
       "      <th>imdb_votes</th>\n",
       "      <th>imdb_rating</th>\n",
       "      <th>duration</th>\n",
       "      <th>genre</th>\n",
       "      <th>director_name</th>\n",
       "      <th>writer_name</th>\n",
       "      <th>Main_genre</th>\n",
       "    </tr>\n",
       "  </thead>\n",
       "  <tbody>\n",
       "    <tr>\n",
       "      <th>0</th>\n",
       "      <td>1</td>\n",
       "      <td>tt0111161</td>\n",
       "      <td>The Shawshank Redemption</td>\n",
       "      <td>1994</td>\n",
       "      <td>https://www.imdb.com/title/tt0111161</td>\n",
       "      <td>2711075</td>\n",
       "      <td>9.3</td>\n",
       "      <td>2h 22m</td>\n",
       "      <td>Drama</td>\n",
       "      <td>Frank Darabont</td>\n",
       "      <td>Stephen King,Frank Darabont</td>\n",
       "      <td>Drama</td>\n",
       "    </tr>\n",
       "    <tr>\n",
       "      <th>1</th>\n",
       "      <td>2</td>\n",
       "      <td>tt0068646</td>\n",
       "      <td>The Godfather</td>\n",
       "      <td>1972</td>\n",
       "      <td>https://www.imdb.com/title/tt0068646</td>\n",
       "      <td>1882829</td>\n",
       "      <td>9.2</td>\n",
       "      <td>2h 55m</td>\n",
       "      <td>Crime,Drama</td>\n",
       "      <td>Francis Ford Coppola</td>\n",
       "      <td>Mario Puzo,Francis Ford Coppola</td>\n",
       "      <td>Crime</td>\n",
       "    </tr>\n",
       "  </tbody>\n",
       "</table>\n",
       "</div>"
      ],
      "text/plain": [
       "   rank   movie_id                     title  year  \\\n",
       "0     1  tt0111161  The Shawshank Redemption  1994   \n",
       "1     2  tt0068646             The Godfather  1972   \n",
       "\n",
       "                                   link  imdb_votes  imdb_rating duration  \\\n",
       "0  https://www.imdb.com/title/tt0111161     2711075          9.3   2h 22m   \n",
       "1  https://www.imdb.com/title/tt0068646     1882829          9.2   2h 55m   \n",
       "\n",
       "         genre         director_name                      writer_name  \\\n",
       "0        Drama        Frank Darabont      Stephen King,Frank Darabont   \n",
       "1  Crime,Drama  Francis Ford Coppola  Mario Puzo,Francis Ford Coppola   \n",
       "\n",
       "  Main_genre  \n",
       "0      Drama  \n",
       "1      Crime  "
      ]
     },
     "execution_count": 16,
     "metadata": {},
     "output_type": "execute_result"
    }
   ],
   "source": [
    "df[\"Main_genre\"] = df[\"genre\"].str.split(',').str[0]\n",
    "df.head(2)"
   ]
  },
  {
   "cell_type": "markdown",
   "id": "fe45c059-21b7-43b6-9624-a8beb21fa0b2",
   "metadata": {},
   "source": [
    "# Data Visualization"
   ]
  },
  {
   "cell_type": "markdown",
   "id": "54837df2-47f6-410a-b92c-b804302b6ce4",
   "metadata": {},
   "source": [
    "# Q1. Top 5 movies based on number of votes."
   ]
  },
  {
   "cell_type": "code",
   "execution_count": 17,
   "id": "a52317b2-5f63-4b2f-afc5-787aa955695a",
   "metadata": {},
   "outputs": [
    {
     "data": {
      "text/html": [
       "<div>\n",
       "<style scoped>\n",
       "    .dataframe tbody tr th:only-of-type {\n",
       "        vertical-align: middle;\n",
       "    }\n",
       "\n",
       "    .dataframe tbody tr th {\n",
       "        vertical-align: top;\n",
       "    }\n",
       "\n",
       "    .dataframe thead th {\n",
       "        text-align: right;\n",
       "    }\n",
       "</style>\n",
       "<table border=\"1\" class=\"dataframe\">\n",
       "  <thead>\n",
       "    <tr style=\"text-align: right;\">\n",
       "      <th></th>\n",
       "      <th>imdb_votes</th>\n",
       "    </tr>\n",
       "    <tr>\n",
       "      <th>title</th>\n",
       "      <th></th>\n",
       "    </tr>\n",
       "  </thead>\n",
       "  <tbody>\n",
       "    <tr>\n",
       "      <th>The Shawshank Redemption</th>\n",
       "      <td>2711075</td>\n",
       "    </tr>\n",
       "    <tr>\n",
       "      <th>The Dark Knight</th>\n",
       "      <td>2684051</td>\n",
       "    </tr>\n",
       "    <tr>\n",
       "      <th>Inception</th>\n",
       "      <td>2381879</td>\n",
       "    </tr>\n",
       "    <tr>\n",
       "      <th>Fight Club</th>\n",
       "      <td>2154995</td>\n",
       "    </tr>\n",
       "    <tr>\n",
       "      <th>Forrest Gump</th>\n",
       "      <td>2106590</td>\n",
       "    </tr>\n",
       "  </tbody>\n",
       "</table>\n",
       "</div>"
      ],
      "text/plain": [
       "                          imdb_votes\n",
       "title                               \n",
       "The Shawshank Redemption     2711075\n",
       "The Dark Knight              2684051\n",
       "Inception                    2381879\n",
       "Fight Club                   2154995\n",
       "Forrest Gump                 2106590"
      ]
     },
     "execution_count": 17,
     "metadata": {},
     "output_type": "execute_result"
    }
   ],
   "source": [
    "gb = df.groupby(\"title\").agg({\"imdb_votes\":\"max\"})\n",
    "a = gb.sort_values(by = \"imdb_votes\", ascending = False)\n",
    "top_movies = a.head()\n",
    "top_movies"
   ]
  },
  {
   "cell_type": "code",
   "execution_count": 18,
   "id": "f0591b4d-fc1f-4ee8-9f75-1f12fef16acd",
   "metadata": {},
   "outputs": [
    {
     "data": {
      "image/png": "[encoded data removed]",
      "text/plain": [
       "<Figure size 640x480 with 1 Axes>"
      ]
     },
     "metadata": {},
     "output_type": "display_data"
    }
   ],
   "source": [
    "sns.set_style(style = 'whitegrid')\n",
    "sns.barplot(data = top_movies, y= \"title\", x = \"imdb_votes\")\n",
    "mp.title(\"Top 5 movies based on votes\")\n",
    "mp.show()"
   ]
  },
  {
   "cell_type": "markdown",
   "id": "2c161e38-bdf0-48c9-ad7c-48508ce1228b",
   "metadata": {},
   "source": [
    "# Q2. Find out which movie has the maximum number of votes and which genre it belongs to and its duration."
   ]
  },
  {
   "cell_type": "code",
   "execution_count": 21,
   "id": "6ac38ceb-e1e5-4a5d-83a5-8466e1ceed7e",
   "metadata": {},
   "outputs": [
    {
     "name": "stdout",
     "output_type": "stream",
     "text": [
      "The Shawshank Redemption has maximum number of votes. \n",
      "It's Genre:  Drama \n",
      "It's duration:  2h 22m\n"
     ]
    }
   ],
   "source": [
    "a = df[\"imdb_votes\"].idxmax()\n",
    "print(df.loc[a,\"title\"],\"has maximum number of votes.\",\"\\nIt's Genre: \",df.loc[a,\"genre\"],\"\\nIt's duration: \",df.loc[a,\"duration\"])"
   ]
  },
  {
   "cell_type": "markdown",
   "id": "c2e4a939-6999-4f78-9f40-eeab4d3d91b5",
   "metadata": {},
   "source": [
    "# Q3. Find out which movie has the minimum number of votes and which genre it belongs to and its duration."
   ]
  },
  {
   "cell_type": "code",
   "execution_count": 22,
   "id": "9396c31a-e491-49ec-8009-5a682d115a02",
   "metadata": {},
   "outputs": [
    {
     "name": "stdout",
     "output_type": "stream",
     "text": [
      "Dersu Uzala has minimum number of votes. \n",
      "It's Genre:  Adventure,Biography,Drama \n",
      "It's duration:  2h 22m\n"
     ]
    }
   ],
   "source": [
    "a = df[\"imdb_votes\"].idxmin()\n",
    "print(df.loc[a,\"title\"],\"has minimum number of votes.\",\"\\nIt's Genre: \",df.loc[a,\"genre\"],\"\\nIt's duration: \",df.loc[a,\"duration\"])"
   ]
  },
  {
   "cell_type": "markdown",
   "id": "d847d3f8-a775-4917-945f-b7c7fb955ecd",
   "metadata": {},
   "source": [
    "# Q4. Find out each genre which has maximum number of votes(Top 10)."
   ]
  },
  {
   "cell_type": "code",
   "execution_count": 23,
   "id": "019d0a04-6995-4c5a-aac9-e9675c726b41",
   "metadata": {},
   "outputs": [
    {
     "data": {
      "text/html": [
       "<div>\n",
       "<style scoped>\n",
       "    .dataframe tbody tr th:only-of-type {\n",
       "        vertical-align: middle;\n",
       "    }\n",
       "\n",
       "    .dataframe tbody tr th {\n",
       "        vertical-align: top;\n",
       "    }\n",
       "\n",
       "    .dataframe thead th {\n",
       "        text-align: right;\n",
       "    }\n",
       "</style>\n",
       "<table border=\"1\" class=\"dataframe\">\n",
       "  <thead>\n",
       "    <tr style=\"text-align: right;\">\n",
       "      <th></th>\n",
       "      <th>imdb_votes</th>\n",
       "    </tr>\n",
       "    <tr>\n",
       "      <th>Main_genre</th>\n",
       "      <th></th>\n",
       "    </tr>\n",
       "  </thead>\n",
       "  <tbody>\n",
       "    <tr>\n",
       "      <th>Drama</th>\n",
       "      <td>2711075</td>\n",
       "    </tr>\n",
       "    <tr>\n",
       "      <th>Action</th>\n",
       "      <td>2684051</td>\n",
       "    </tr>\n",
       "    <tr>\n",
       "      <th>Crime</th>\n",
       "      <td>2081489</td>\n",
       "    </tr>\n",
       "    <tr>\n",
       "      <th>Adventure</th>\n",
       "      <td>1870060</td>\n",
       "    </tr>\n",
       "    <tr>\n",
       "      <th>Biography</th>\n",
       "      <td>1437576</td>\n",
       "    </tr>\n",
       "    <tr>\n",
       "      <th>Mystery</th>\n",
       "      <td>1338496</td>\n",
       "    </tr>\n",
       "    <tr>\n",
       "      <th>Animation</th>\n",
       "      <td>1129098</td>\n",
       "    </tr>\n",
       "    <tr>\n",
       "      <th>Comedy</th>\n",
       "      <td>1100115</td>\n",
       "    </tr>\n",
       "    <tr>\n",
       "      <th>Horror</th>\n",
       "      <td>892980</td>\n",
       "    </tr>\n",
       "    <tr>\n",
       "      <th>Western</th>\n",
       "      <td>333809</td>\n",
       "    </tr>\n",
       "    <tr>\n",
       "      <th>Film-Noir</th>\n",
       "      <td>173749</td>\n",
       "    </tr>\n",
       "  </tbody>\n",
       "</table>\n",
       "</div>"
      ],
      "text/plain": [
       "            imdb_votes\n",
       "Main_genre            \n",
       "Drama          2711075\n",
       "Action         2684051\n",
       "Crime          2081489\n",
       "Adventure      1870060\n",
       "Biography      1437576\n",
       "Mystery        1338496\n",
       "Animation      1129098\n",
       "Comedy         1100115\n",
       "Horror          892980\n",
       "Western         333809\n",
       "Film-Noir       173749"
      ]
     },
     "execution_count": 23,
     "metadata": {},
     "output_type": "execute_result"
    }
   ],
   "source": [
    "gb = df.groupby(\"Main_genre\").agg({\"imdb_votes\":\"max\"})\n",
    "a = gb.sort_values(by = \"imdb_votes\", ascending = False)\n",
    "a"
   ]
  },
  {
   "cell_type": "code",
   "execution_count": 24,
   "id": "ef069c0d-2426-4d41-8ea5-10edb2f7728b",
   "metadata": {},
   "outputs": [
    {
     "name": "stderr",
     "output_type": "stream",
     "text": [
      "C:\\Users\\Ishank\\AppData\\Local\\Temp\\ipykernel_3716\\3043982338.py:2: FutureWarning: \n",
      "\n",
      "Passing `palette` without assigning `hue` is deprecated and will be removed in v0.14.0. Assign the `x` variable to `hue` and set `legend=False` for the same effect.\n",
      "\n",
      "  sns.barplot(data=a,x = \"Main_genre\", y = \"imdb_votes\",palette = \"viridis\")\n"
     ]
    },
    {
     "data": {
      "image/png": "[encoded data removed]",
      "text/plain": [
       "<Figure size 1000x500 with 1 Axes>"
      ]
     },
     "metadata": {},
     "output_type": "display_data"
    }
   ],
   "source": [
    "mp.figure(figsize = [10,5])\n",
    "sns.barplot(data=a,x = \"Main_genre\", y = \"imdb_votes\",palette = \"viridis\")\n",
    "mp.title(\"Genre's based on IMDB_Votes\") \n",
    "mp.show()"
   ]
  },
  {
   "cell_type": "markdown",
   "id": "f2861695-506a-4740-96c1-9d0ab80d1b35",
   "metadata": {},
   "source": [
    "# Q5. Find out top 5 genre which has maximum number of movies"
   ]
  },
  {
   "cell_type": "code",
   "execution_count": 25,
   "id": "8aea6383-73bc-458e-bd22-55a972294b54",
   "metadata": {},
   "outputs": [
    {
     "data": {
      "text/plain": [
       "Main_genre\n",
       "Drama        68\n",
       "Action       45\n",
       "Crime        35\n",
       "Biography    23\n",
       "Comedy       23\n",
       "Name: count, dtype: int64"
      ]
     },
     "execution_count": 25,
     "metadata": {},
     "output_type": "execute_result"
    }
   ],
   "source": [
    "a = df[\"Main_genre\"].value_counts()\n",
    "genre = a.head()\n",
    "genre"
   ]
  },
  {
   "cell_type": "code",
   "execution_count": 26,
   "id": "8d8856d1-0482-402c-9fa6-6f01db3cacd8",
   "metadata": {},
   "outputs": [
    {
     "name": "stderr",
     "output_type": "stream",
     "text": [
      "C:\\Users\\Ishank\\AppData\\Local\\Temp\\ipykernel_3716\\1424478338.py:1: FutureWarning: \n",
      "\n",
      "Passing `palette` without assigning `hue` is deprecated and will be removed in v0.14.0. Assign the `x` variable to `hue` and set `legend=False` for the same effect.\n",
      "\n",
      "  sns.barplot(data = genre, palette = \"Dark2\")\n"
     ]
    },
    {
     "data": {
      "image/png": "[encoded data removed]",
      "text/plain": [
       "<Figure size 640x480 with 1 Axes>"
      ]
     },
     "metadata": {},
     "output_type": "display_data"
    }
   ],
   "source": [
    "sns.barplot(data = genre, palette = \"Dark2\")\n",
    "mp.xlabel(\"Genre\", fontsize = 13)\n",
    "mp.ylabel(\"Number of movies\", fontsize = 15)\n",
    "mp.title(\"Top 5 Genre\", fontsize = 20)\n",
    "mp.show()"
   ]
  },
  {
   "cell_type": "markdown",
   "id": "45e7f743-b2a4-4f9c-b4f2-339b55f07213",
   "metadata": {},
   "source": [
    "# Q6. In which year most movies released? (Top 10)"
   ]
  },
  {
   "cell_type": "code",
   "execution_count": 28,
   "id": "97aaaa53-63b7-4f57-8a90-08ca5c9e57d5",
   "metadata": {},
   "outputs": [
    {
     "name": "stdout",
     "output_type": "stream",
     "text": [
      "Maximum number of movies(8) released on 1995\n"
     ]
    },
    {
     "data": {
      "text/plain": [
       "year\n",
       "1995    8\n",
       "2004    7\n",
       "2009    6\n",
       "1957    6\n",
       "2003    6\n",
       "2019    6\n",
       "1999    6\n",
       "1975    5\n",
       "2007    5\n",
       "2011    5\n",
       "Name: count, dtype: int64"
      ]
     },
     "execution_count": 28,
     "metadata": {},
     "output_type": "execute_result"
    }
   ],
   "source": [
    "a = df[\"year\"].value_counts().head(10)\n",
    "print(\"Maximum number of movies(8) released on 1995\")\n",
    "a"
   ]
  },
  {
   "cell_type": "code",
   "execution_count": 29,
   "id": "a2f32785-8f26-4e6a-9f35-ff52bcd85c14",
   "metadata": {},
   "outputs": [
    {
     "name": "stderr",
     "output_type": "stream",
     "text": [
      "C:\\Users\\Ishank\\AppData\\Local\\Temp\\ipykernel_3716\\358942391.py:2: FutureWarning: \n",
      "\n",
      "Passing `palette` without assigning `hue` is deprecated and will be removed in v0.14.0. Assign the `x` variable to `hue` and set `legend=False` for the same effect.\n",
      "\n",
      "  sns.countplot(data = df, x= \"year\", order= a.index, palette = \"rainbow\")\n"
     ]
    },
    {
     "data": {
      "image/png": "[encoded data removed]",
      "text/plain": [
       "<Figure size 1000x500 with 1 Axes>"
      ]
     },
     "metadata": {},
     "output_type": "display_data"
    }
   ],
   "source": [
    "mp.figure(figsize = [10,5])\n",
    "sns.countplot(data = df, x= \"year\", order= a.index, palette = \"rainbow\") \n",
    "mp.title(\"Most movies released\")\n",
    "mp.ylabel(\"Number of movies\")\n",
    "mp.show()"
   ]
  },
  {
   "cell_type": "markdown",
   "id": "7a97088e-16a0-4f23-8a62-7000e72a3de8",
   "metadata": {},
   "source": [
    "# Q7. Which directors have the most movies"
   ]
  },
  {
   "cell_type": "code",
   "execution_count": 31,
   "id": "feb0be40-c48a-4d49-8222-6b261cdccb47",
   "metadata": {},
   "outputs": [
    {
     "data": {
      "text/html": [
       "<div>\n",
       "<style scoped>\n",
       "    .dataframe tbody tr th:only-of-type {\n",
       "        vertical-align: middle;\n",
       "    }\n",
       "\n",
       "    .dataframe tbody tr th {\n",
       "        vertical-align: top;\n",
       "    }\n",
       "\n",
       "    .dataframe thead th {\n",
       "        text-align: right;\n",
       "    }\n",
       "</style>\n",
       "<table border=\"1\" class=\"dataframe\">\n",
       "  <thead>\n",
       "    <tr style=\"text-align: right;\">\n",
       "      <th></th>\n",
       "      <th>count</th>\n",
       "    </tr>\n",
       "    <tr>\n",
       "      <th>director_name</th>\n",
       "      <th></th>\n",
       "    </tr>\n",
       "  </thead>\n",
       "  <tbody>\n",
       "    <tr>\n",
       "      <th>Martin Scorsese</th>\n",
       "      <td>7</td>\n",
       "    </tr>\n",
       "    <tr>\n",
       "      <th>Christopher Nolan</th>\n",
       "      <td>7</td>\n",
       "    </tr>\n",
       "    <tr>\n",
       "      <th>Steven Spielberg</th>\n",
       "      <td>7</td>\n",
       "    </tr>\n",
       "    <tr>\n",
       "      <th>Stanley Kubrick</th>\n",
       "      <td>7</td>\n",
       "    </tr>\n",
       "    <tr>\n",
       "      <th>Akira Kurosawa</th>\n",
       "      <td>7</td>\n",
       "    </tr>\n",
       "    <tr>\n",
       "      <th>Alfred Hitchcock</th>\n",
       "      <td>6</td>\n",
       "    </tr>\n",
       "    <tr>\n",
       "      <th>Billy Wilder</th>\n",
       "      <td>5</td>\n",
       "    </tr>\n",
       "    <tr>\n",
       "      <th>Charles Chaplin</th>\n",
       "      <td>5</td>\n",
       "    </tr>\n",
       "    <tr>\n",
       "      <th>Quentin Tarantino</th>\n",
       "      <td>5</td>\n",
       "    </tr>\n",
       "    <tr>\n",
       "      <th>Hayao Miyazaki</th>\n",
       "      <td>4</td>\n",
       "    </tr>\n",
       "  </tbody>\n",
       "</table>\n",
       "</div>"
      ],
      "text/plain": [
       "                   count\n",
       "director_name           \n",
       "Martin Scorsese        7\n",
       "Christopher Nolan      7\n",
       "Steven Spielberg       7\n",
       "Stanley Kubrick        7\n",
       "Akira Kurosawa         7\n",
       "Alfred Hitchcock       6\n",
       "Billy Wilder           5\n",
       "Charles Chaplin        5\n",
       "Quentin Tarantino      5\n",
       "Hayao Miyazaki         4"
      ]
     },
     "execution_count": 31,
     "metadata": {},
     "output_type": "execute_result"
    }
   ],
   "source": [
    "a = df[\"director_name\"].value_counts()\n",
    "ax = pd.DataFrame(a.head(10))\n",
    "ax"
   ]
  },
  {
   "cell_type": "code",
   "execution_count": 32,
   "id": "2107e686-12f7-4283-bf4d-fcb47b1c6135",
   "metadata": {},
   "outputs": [
    {
     "name": "stderr",
     "output_type": "stream",
     "text": [
      "C:\\Users\\Ishank\\AppData\\Local\\Temp\\ipykernel_3716\\2436779288.py:1: FutureWarning: \n",
      "\n",
      "Passing `palette` without assigning `hue` is deprecated and will be removed in v0.14.0. Assign the `y` variable to `hue` and set `legend=False` for the same effect.\n",
      "\n",
      "  sns.barplot(data = ax, y = ax.index, x = ax['count'], palette = \"Paired\")\n"
     ]
    },
    {
     "data": {
      "image/png": "[encoded data removed]",
      "text/plain": [
       "<Figure size 640x480 with 1 Axes>"
      ]
     },
     "metadata": {},
     "output_type": "display_data"
    }
   ],
   "source": [
    "sns.barplot(data = ax, y = ax.index, x = ax['count'], palette = \"Paired\")\n",
    "mp.title(\"Top 10 Directors based on maximum number of movies\")\n",
    "mp.xlabel(\"Number of movies\")\n",
    "mp.show()"
   ]
  },
  {
   "cell_type": "markdown",
   "id": "01601854-0342-4464-91aa-02d95c925a5e",
   "metadata": {},
   "source": [
    "# Q8. Which director has produced highest rated movies on an averag ? MIN MOVIES = 4"
   ]
  },
  {
   "cell_type": "code",
   "execution_count": 33,
   "id": "0d516b79-b11c-4dad-88c5-cbbf4d6981ff",
   "metadata": {},
   "outputs": [
    {
     "data": {
      "text/html": [
       "<div>\n",
       "<style scoped>\n",
       "    .dataframe tbody tr th:only-of-type {\n",
       "        vertical-align: middle;\n",
       "    }\n",
       "\n",
       "    .dataframe tbody tr th {\n",
       "        vertical-align: top;\n",
       "    }\n",
       "\n",
       "    .dataframe thead th {\n",
       "        text-align: right;\n",
       "    }\n",
       "</style>\n",
       "<table border=\"1\" class=\"dataframe\">\n",
       "  <thead>\n",
       "    <tr style=\"text-align: right;\">\n",
       "      <th></th>\n",
       "      <th>imdb_rating</th>\n",
       "      <th>title</th>\n",
       "    </tr>\n",
       "    <tr>\n",
       "      <th>director_name</th>\n",
       "      <th></th>\n",
       "      <th></th>\n",
       "    </tr>\n",
       "  </thead>\n",
       "  <tbody>\n",
       "    <tr>\n",
       "      <th>Christopher Nolan</th>\n",
       "      <td>8.557143</td>\n",
       "      <td>7</td>\n",
       "    </tr>\n",
       "    <tr>\n",
       "      <th>Steven Spielberg</th>\n",
       "      <td>8.371429</td>\n",
       "      <td>7</td>\n",
       "    </tr>\n",
       "    <tr>\n",
       "      <th>Stanley Kubrick</th>\n",
       "      <td>8.314286</td>\n",
       "      <td>7</td>\n",
       "    </tr>\n",
       "    <tr>\n",
       "      <th>Martin Scorsese</th>\n",
       "      <td>8.314286</td>\n",
       "      <td>7</td>\n",
       "    </tr>\n",
       "    <tr>\n",
       "      <th>Akira Kurosawa</th>\n",
       "      <td>8.300000</td>\n",
       "      <td>7</td>\n",
       "    </tr>\n",
       "    <tr>\n",
       "      <th>Alfred Hitchcock</th>\n",
       "      <td>8.316667</td>\n",
       "      <td>6</td>\n",
       "    </tr>\n",
       "    <tr>\n",
       "      <th>Quentin Tarantino</th>\n",
       "      <td>8.420000</td>\n",
       "      <td>5</td>\n",
       "    </tr>\n",
       "    <tr>\n",
       "      <th>Charles Chaplin</th>\n",
       "      <td>8.360000</td>\n",
       "      <td>5</td>\n",
       "    </tr>\n",
       "    <tr>\n",
       "      <th>Billy Wilder</th>\n",
       "      <td>8.320000</td>\n",
       "      <td>5</td>\n",
       "    </tr>\n",
       "    <tr>\n",
       "      <th>Sergio Leone</th>\n",
       "      <td>8.450000</td>\n",
       "      <td>4</td>\n",
       "    </tr>\n",
       "    <tr>\n",
       "      <th>Hayao Miyazaki</th>\n",
       "      <td>8.300000</td>\n",
       "      <td>4</td>\n",
       "    </tr>\n",
       "  </tbody>\n",
       "</table>\n",
       "</div>"
      ],
      "text/plain": [
       "                   imdb_rating  title\n",
       "director_name                        \n",
       "Christopher Nolan     8.557143      7\n",
       "Steven Spielberg      8.371429      7\n",
       "Stanley Kubrick       8.314286      7\n",
       "Martin Scorsese       8.314286      7\n",
       "Akira Kurosawa        8.300000      7\n",
       "Alfred Hitchcock      8.316667      6\n",
       "Quentin Tarantino     8.420000      5\n",
       "Charles Chaplin       8.360000      5\n",
       "Billy Wilder          8.320000      5\n",
       "Sergio Leone          8.450000      4\n",
       "Hayao Miyazaki        8.300000      4"
      ]
     },
     "execution_count": 33,
     "metadata": {},
     "output_type": "execute_result"
    }
   ],
   "source": [
    "gb = df.groupby(\"director_name\").agg({\"imdb_rating\":\"mean\", \"title\":\"count\"})\n",
    "a = gb.sort_values(by = [\"title\",\"imdb_rating\"], ascending = False).head(11)\n",
    "data = pd.DataFrame(a)\n",
    "data"
   ]
  },
  {
   "cell_type": "code",
   "execution_count": 34,
   "id": "67c91899-79f1-4984-8cbb-49c85663bb12",
   "metadata": {},
   "outputs": [
    {
     "data": {
      "image/png": "[encoded data removed]",
      "text/plain": [
       "<Figure size 640x480 with 1 Axes>"
      ]
     },
     "metadata": {},
     "output_type": "display_data"
    }
   ],
   "source": [
    "sns.lineplot(data = data, y= data.index, x = \"imdb_rating\", marker = \"D\",mec = \"black\",mfc = \"red\")\n",
    "mp.title(\"Highest rating directors\")\n",
    "mp.show()"
   ]
  },
  {
   "cell_type": "markdown",
   "id": "2f2b9358-feff-40b1-a2cc-77cb298219f9",
   "metadata": {},
   "source": [
    "# Q9. What is the average duration of movies"
   ]
  },
  {
   "cell_type": "code",
   "execution_count": 35,
   "id": "c0acd631-84ef-4fc2-8ca4-62bfac726944",
   "metadata": {},
   "outputs": [],
   "source": [
    "def mins(duration):\n",
    "    if \"h\" in duration and \"m\" in duration:\n",
    "        return(int(duration.split(\" \")[0].replace(\"h\",\"\"))*60) + int(duration.split(\" \")[1].replace(\"m\",''))\n",
    "    elif \"h\" in duration and \"m\" not in duration:\n",
    "        return(int(duration.replace(\"h\",\"\"))*60)\n",
    "    elif \"m\" in duration and \"h\" not in duration:\n",
    "        return(int(duration.replace(\"m\",\"\")))\n",
    "df[\"minutes\"]= df[\"duration\"].apply(mins)"
   ]
  },
  {
   "cell_type": "code",
   "execution_count": 36,
   "id": "1a1786d3-7788-4ba5-b458-3f177d7d00b0",
   "metadata": {},
   "outputs": [
    {
     "name": "stdout",
     "output_type": "stream",
     "text": [
      "Average duration of movies:  129.132 minutes\n"
     ]
    }
   ],
   "source": [
    "df.head()\n",
    "a = df[\"minutes\"].mean()\n",
    "print(\"Average duration of movies: \",a, \"minutes\")"
   ]
  },
  {
   "cell_type": "code",
   "execution_count": null,
   "id": "080b11b8-2c3f-4050-b017-9b76287216f7",
   "metadata": {},
   "outputs": [],
   "source": []
  }
 ],
 "metadata": {
  "kernelspec": {
   "display_name": "Python 3 (ipykernel)",
   "language": "python",
   "name": "python3"
  },
  "language_info": {
   "codemirror_mode": {
    "name": "ipython",
    "version": 3
   },
   "file_extension": ".py",
   "mimetype": "text/x-python",
   "name": "python",
   "nbconvert_exporter": "python",
   "pygments_lexer": "ipython3",
   "version": "3.11.5"
  }
 },
 "nbformat": 4,
 "nbformat_minor": 5
}
