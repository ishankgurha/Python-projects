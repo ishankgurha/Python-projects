{
 "cells": [
  {
   "cell_type": "code",
   "execution_count": 17,
   "id": "ae22902a-ea3d-4c3e-8ca8-b9051ad8e17d",
   "metadata": {},
   "outputs": [
    {
     "name": "stdout",
     "output_type": "stream",
     "text": [
      "=============== Welcome to theatre ticket booking system ===============\n",
      "\n",
      "Normal Seat                 Recliner Seat                 Popcorn Combo\n",
      "250 Rupees                   500 Rupees                    300 Rupees\n"
     ]
    },
    {
     "name": "stdin",
     "output_type": "stream",
     "text": [
      "Enter Your name here :   ishank gurha\n",
      "How many tickets do you want to book?   180\n",
      "Do you want to book normal or recliner Seats?   normal\n",
      "Do you want to add a combo for Rs. 300/- ?______ (yes/no) no\n"
     ]
    },
    {
     "name": "stdout",
     "output_type": "stream",
     "text": [
      "----------------------------------------------------------------------------------------------------\n",
      "Customer Name:  ISHANK GURHA\n",
      "Total Seats Available :  20\n",
      "Total Normal Seats Available :  0\n",
      "Total Recliner Seats Available :  20\n",
      "----------------------------------------------------------------------------------------------------\n",
      "Total price for your show :  45000\n",
      "we have only seats available now:  20\n",
      "____________________________________________________________\n"
     ]
    }
   ],
   "source": [
    "print(\"=\"*15,\"Welcome to theatre ticket booking system\",\"=\"*15)\n",
    "print()\n",
    "\n",
    "print(\"Normal Seat\",\" \"*15,\"Recliner Seat\",\" \"*15,\"Popcorn Combo\")\n",
    "print(\"250 Rupees\",\" \"*17,\"500 Rupees\",\" \"*18,\"300 Rupees\")\n",
    "\n",
    "\n",
    "total_seats = 200\n",
    "normal_seats = 180\n",
    "recliner_seats = 20\n",
    "normal_price = 250\n",
    "recliner_price = 500\n",
    "combo_price = 300\n",
    "\n",
    "while True:\n",
    "    name = input(\"Enter Your name here :  \").upper()\n",
    "    \n",
    "    n_tickets = int(input(\"How many tickets do you want to book?  \"))\n",
    "\n",
    "    if n_tickets > total_seats:\n",
    "        print(\"Sorry, We're Fully Booked\")\n",
    "        break\n",
    "    else:\n",
    "     \n",
    "        seat_type = input(\"Do you want to book normal or recliner Seats?  \")\n",
    "        if seat_type == \"normal\":\n",
    "            if n_tickets <= normal_seats:\n",
    "                total_seats -= n_tickets\n",
    "                normal_seats -= n_tickets\n",
    "                total_price = normal_price * n_tickets\n",
    "            else:\n",
    "                print(\"Sorry, we have only available normal seats: \",normal_seats)\n",
    "                continue\n",
    "         \n",
    "              \n",
    "        elif seat_type == \"recliner\":\n",
    "            if n_tickets <= recliner_seats:\n",
    "                total_seats -= n_tickets\n",
    "                recliner_seats -= n_tickets\n",
    "                total_price = recliner_price * n_tickets\n",
    "            else:\n",
    "                print(\"Sorry, we have only available recliner seats: \",recliner_seats)\n",
    "                continue\n",
    "        else:\n",
    "            print(\"Please Choose Right Ticket Type\")\n",
    "            continue\n",
    "\n",
    "            \n",
    "        combo = input(\"Do you want to add a combo for Rs. 300/- ?______ (yes/no)\")\n",
    "        if combo == \"yes\":\n",
    "            total_price += combo_price\n",
    "\n",
    "        print(\"-\"*100)\n",
    "\n",
    "        #print final bill\n",
    "        print(\"Customer Name: \",name)\n",
    "        print(\"Total Seats Available : \", total_seats)\n",
    "        print(\"Total Normal Seats Available : \", normal_seats)\n",
    "        print(\"Total Recliner Seats Available : \", recliner_seats)\n",
    "        print(\"-\"*100)\n",
    "        print(\"Total price for your show : \", total_price)\n",
    "\n",
    "    if n_tickets > total_seats:\n",
    "        print(\"we have only seats available now: \" ,total_seats)\n",
    "        print(\"_\"*60)\n",
    "        break"
   ]
  }
 ],
 "metadata": {
  "kernelspec": {
   "display_name": "Python 3 (ipykernel)",
   "language": "python",
   "name": "python3"
  },
  "language_info": {
   "codemirror_mode": {
    "name": "ipython",
    "version": 3
   },
   "file_extension": ".py",
   "mimetype": "text/x-python",
   "name": "python",
   "nbconvert_exporter": "python",
   "pygments_lexer": "ipython3",
   "version": "3.11.5"
  }
 },
 "nbformat": 4,
 "nbformat_minor": 5
}
