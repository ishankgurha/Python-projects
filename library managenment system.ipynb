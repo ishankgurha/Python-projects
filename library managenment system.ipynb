{
 "cells": [
  {
   "cell_type": "code",
   "execution_count": 1,
   "id": "100ab6a5-3b4b-4365-90de-2b8977036276",
   "metadata": {},
   "outputs": [],
   "source": [
    "#Create a Library Management System\n",
    "\n",
    "#1. Username Password\n",
    "#2. total availables books (math - 0)\n",
    "#3. borrow books\n",
    "#4. return books\n",
    "#5. display borrowed books details along with person's name. \n",
    "\n",
    "#increase and decrease the count of books accordingly."
   ]
  },
  {
   "cell_type": "code",
   "execution_count": 1,
   "id": "64b2c72e-3b01-4577-8128-1d1d34b0a2db",
   "metadata": {},
   "outputs": [
    {
     "name": "stdin",
     "output_type": "stream",
     "text": [
      "Enter username:  admin\n",
      "Enter password:  password\n"
     ]
    },
    {
     "name": "stdout",
     "output_type": "stream",
     "text": [
      "Login successful.\n",
      "\n",
      "Menu:\n",
      "1. Display Available Books\n",
      "2. Borrow a Book\n",
      "3. Return a Book\n",
      "4. Display Borrowed Books Details\n",
      "5. Exit\n"
     ]
    },
    {
     "name": "stdin",
     "output_type": "stream",
     "text": [
      "Enter choice:  1\n"
     ]
    },
    {
     "name": "stdout",
     "output_type": "stream",
     "text": [
      "Available Books:\n",
      "Math - 5\n",
      "Science - 3\n",
      "History - 7\n",
      "\n",
      "Menu:\n",
      "1. Display Available Books\n",
      "2. Borrow a Book\n",
      "3. Return a Book\n",
      "4. Display Borrowed Books Details\n",
      "5. Exit\n"
     ]
    },
    {
     "name": "stdin",
     "output_type": "stream",
     "text": [
      "Enter choice:  2\n",
      "Enter the book you want to borrow:  math,science\n"
     ]
    },
    {
     "name": "stdout",
     "output_type": "stream",
     "text": [
      "Book is not available for borrowing.\n",
      "\n",
      "Menu:\n",
      "1. Display Available Books\n",
      "2. Borrow a Book\n",
      "3. Return a Book\n",
      "4. Display Borrowed Books Details\n",
      "5. Exit\n"
     ]
    },
    {
     "name": "stdin",
     "output_type": "stream",
     "text": [
      "Enter choice:  4\n"
     ]
    },
    {
     "name": "stdout",
     "output_type": "stream",
     "text": [
      "Borrowed Books Details:\n",
      "\n",
      "Menu:\n",
      "1. Display Available Books\n",
      "2. Borrow a Book\n",
      "3. Return a Book\n",
      "4. Display Borrowed Books Details\n",
      "5. Exit\n"
     ]
    },
    {
     "name": "stdin",
     "output_type": "stream",
     "text": [
      "Enter choice:  2\n",
      "Enter the book you want to borrow:  math\n"
     ]
    },
    {
     "name": "stdout",
     "output_type": "stream",
     "text": [
      "admin has borrowed math.\n",
      "\n",
      "Menu:\n",
      "1. Display Available Books\n",
      "2. Borrow a Book\n",
      "3. Return a Book\n",
      "4. Display Borrowed Books Details\n",
      "5. Exit\n"
     ]
    },
    {
     "name": "stdin",
     "output_type": "stream",
     "text": [
      "Enter choice:  4\n"
     ]
    },
    {
     "name": "stdout",
     "output_type": "stream",
     "text": [
      "Borrowed Books Details:\n",
      "Admin: math\n",
      "\n",
      "Menu:\n",
      "1. Display Available Books\n",
      "2. Borrow a Book\n",
      "3. Return a Book\n",
      "4. Display Borrowed Books Details\n",
      "5. Exit\n"
     ]
    },
    {
     "name": "stdin",
     "output_type": "stream",
     "text": [
      "Enter choice:  5\n"
     ]
    },
    {
     "name": "stdout",
     "output_type": "stream",
     "text": [
      "Exiting...\n"
     ]
    }
   ],
   "source": [
    "class Library:\n",
    "    def __init__(self):\n",
    "        self.username = \"admin\"\n",
    "        self.password = \"password\"\n",
    "        self.books = {\n",
    "            'math': 5,\n",
    "            'science': 3,\n",
    "            'history': 7\n",
    "        }\n",
    "        self.borrowed_books = {}\n",
    "\n",
    "    def login(self, username, password):\n",
    "        if username == self.username and password == self.password:\n",
    "            return True\n",
    "        else:\n",
    "            return False\n",
    "\n",
    "    def display_available_books(self):\n",
    "        print(\"Available Books:\")\n",
    "        for book, count in self.books.items():\n",
    "            print(f\"{book.capitalize()} - {count}\")\n",
    "\n",
    "    def borrow_book(self, book, username):\n",
    "        if book in self.books and self.books[book] > 0:\n",
    "            if username in self.borrowed_books:\n",
    "                self.borrowed_books[username].append(book)\n",
    "            else:\n",
    "                self.borrowed_books[username] = [book]\n",
    "            self.books[book] -= 1\n",
    "            print(f\"{username} has borrowed {book}.\")\n",
    "        else:\n",
    "            print(\"Book is not available for borrowing.\")\n",
    "\n",
    "    def return_book(self, book, username):\n",
    "        if username in self.borrowed_books and book in self.borrowed_books[username]:\n",
    "            self.books[book] += 1\n",
    "            self.borrowed_books[username].remove(book)\n",
    "            print(f\"{username} has returned {book}.\")\n",
    "        else:\n",
    "            print(\"Book return unsuccessful. Invalid book or username.\")\n",
    "\n",
    "    def display_borrowed_books(self):\n",
    "        print(\"Borrowed Books Details:\")\n",
    "        for username, books in self.borrowed_books.items():\n",
    "            print(f\"{username.capitalize()}: {', '.join(books)}\")\n",
    "\n",
    "\n",
    "# Example Usage:\n",
    "library = Library()\n",
    "\n",
    "# Login\n",
    "username = input(\"Enter username: \")\n",
    "password = input(\"Enter password: \")\n",
    "\n",
    "if library.login(username, password):\n",
    "    print(\"Login successful.\")\n",
    "    while True:\n",
    "        print(\"\\nMenu:\")\n",
    "        print(\"1. Display Available Books\")\n",
    "        print(\"2. Borrow a Book\")\n",
    "        print(\"3. Return a Book\")\n",
    "        print(\"4. Display Borrowed Books Details\")\n",
    "        print(\"5. Exit\")\n",
    "        choice = input(\"Enter choice: \")\n",
    "\n",
    "        if choice == '1':\n",
    "            library.display_available_books()\n",
    "        elif choice == '2':\n",
    "            book = input(\"Enter the book you want to borrow: \").lower()\n",
    "            library.borrow_book(book, username)\n",
    "        elif choice == '3':\n",
    "            book = input(\"Enter the book you want to return: \").lower()\n",
    "            library.return_book(book, username)\n",
    "        elif choice == '4':\n",
    "            library.display_borrowed_books()\n",
    "        elif choice == '5':\n",
    "            print(\"Exiting...\")\n",
    "            break\n",
    "        else:\n",
    "            print(\"Invalid choice. Please enter a valid option.\")\n",
    "else:\n",
    "    print(\"Login failed. Invalid username or password.\")\n"
   ]
  },
  {
   "cell_type": "code",
   "execution_count": null,
   "id": "73a17d8f-3ed8-4f3a-bad9-00ef8c5fdfbc",
   "metadata": {},
   "outputs": [],
   "source": []
  }
 ],
 "metadata": {
  "kernelspec": {
   "display_name": "Python 3 (ipykernel)",
   "language": "python",
   "name": "python3"
  },
  "language_info": {
   "codemirror_mode": {
    "name": "ipython",
    "version": 3
   },
   "file_extension": ".py",
   "mimetype": "text/x-python",
   "name": "python",
   "nbconvert_exporter": "python",
   "pygments_lexer": "ipython3",
   "version": "3.11.5"
  }
 },
 "nbformat": 4,
 "nbformat_minor": 5
}
