{
 "cells": [
  {
   "cell_type": "code",
   "execution_count": 1,
   "id": "16dcfdc9-6201-43bf-b277-0345a3d33b62",
   "metadata": {},
   "outputs": [],
   "source": [
    "# Pizza sales data--https://www.mavenanalytics.io/data-playground\n",
    "# 1. total sales\n",
    "# 2. identify which pizza is ordered the most\n",
    "# 3. Identify which pizza category is hotselling.\n",
    "# 4. Identify which pizza is generating more sales\n",
    "# 5. identify which day of the week we are getting the hight orderes\n",
    "# 6. identify the time at which we are getting high orders and the time at which we are getting the lowest orders\n",
    "# 7. Identify at which time of the day, people are ordering more pizzas.  (morning/evening/afternoon/night)"
   ]
  },
  {
   "cell_type": "markdown",
   "id": "f0b41d3f-0278-4de5-99b7-d2380d81aa6e",
   "metadata": {},
   "source": [
    "# Importing Libraries"
   ]
  },
  {
   "cell_type": "code",
   "execution_count": 2,
   "id": "6e26323f-1381-4260-8e6f-bb6ba0800410",
   "metadata": {},
   "outputs": [],
   "source": [
    "import pandas as pd\n",
    "import numpy as np\n",
    "import matplotlib.pyplot as mp\n",
    "import seaborn as sns"
   ]
  },
  {
   "cell_type": "markdown",
   "id": "4fe8c585-8c06-4334-99cc-35737d0abee1",
   "metadata": {},
   "source": [
    "# Loading the Datasets"
   ]
  },
  {
   "cell_type": "code",
   "execution_count": 10,
   "id": "b4dc5ccd-2e4c-4a7b-9b5d-464ad5411d86",
   "metadata": {},
   "outputs": [
    {
     "data": {
      "text/html": [
       "<div>\n",
       "<style scoped>\n",
       "    .dataframe tbody tr th:only-of-type {\n",
       "        vertical-align: middle;\n",
       "    }\n",
       "\n",
       "    .dataframe tbody tr th {\n",
       "        vertical-align: top;\n",
       "    }\n",
       "\n",
       "    .dataframe thead th {\n",
       "        text-align: right;\n",
       "    }\n",
       "</style>\n",
       "<table border=\"1\" class=\"dataframe\">\n",
       "  <thead>\n",
       "    <tr style=\"text-align: right;\">\n",
       "      <th></th>\n",
       "      <th>order_id</th>\n",
       "      <th>date</th>\n",
       "      <th>time</th>\n",
       "    </tr>\n",
       "  </thead>\n",
       "  <tbody>\n",
       "    <tr>\n",
       "      <th>0</th>\n",
       "      <td>1</td>\n",
       "      <td>2015-01-01</td>\n",
       "      <td>11:38:36</td>\n",
       "    </tr>\n",
       "    <tr>\n",
       "      <th>1</th>\n",
       "      <td>2</td>\n",
       "      <td>2015-01-01</td>\n",
       "      <td>11:57:40</td>\n",
       "    </tr>\n",
       "    <tr>\n",
       "      <th>2</th>\n",
       "      <td>3</td>\n",
       "      <td>2015-01-01</td>\n",
       "      <td>12:12:28</td>\n",
       "    </tr>\n",
       "    <tr>\n",
       "      <th>3</th>\n",
       "      <td>4</td>\n",
       "      <td>2015-01-01</td>\n",
       "      <td>12:16:31</td>\n",
       "    </tr>\n",
       "    <tr>\n",
       "      <th>4</th>\n",
       "      <td>5</td>\n",
       "      <td>2015-01-01</td>\n",
       "      <td>12:21:30</td>\n",
       "    </tr>\n",
       "  </tbody>\n",
       "</table>\n",
       "</div>"
      ],
      "text/plain": [
       "   order_id        date      time\n",
       "0         1  2015-01-01  11:38:36\n",
       "1         2  2015-01-01  11:57:40\n",
       "2         3  2015-01-01  12:12:28\n",
       "3         4  2015-01-01  12:16:31\n",
       "4         5  2015-01-01  12:21:30"
      ]
     },
     "execution_count": 10,
     "metadata": {},
     "output_type": "execute_result"
    }
   ],
   "source": [
    "orders = pd.read_csv(\"orders.csv\")\n",
    "orders.head()\n",
    "\n"
   ]
  },
  {
   "cell_type": "code",
   "execution_count": 11,
   "id": "e7149386-4a4a-4a91-8b17-d8d40e8578a5",
   "metadata": {},
   "outputs": [
    {
     "data": {
      "text/html": [
       "<div>\n",
       "<style scoped>\n",
       "    .dataframe tbody tr th:only-of-type {\n",
       "        vertical-align: middle;\n",
       "    }\n",
       "\n",
       "    .dataframe tbody tr th {\n",
       "        vertical-align: top;\n",
       "    }\n",
       "\n",
       "    .dataframe thead th {\n",
       "        text-align: right;\n",
       "    }\n",
       "</style>\n",
       "<table border=\"1\" class=\"dataframe\">\n",
       "  <thead>\n",
       "    <tr style=\"text-align: right;\">\n",
       "      <th></th>\n",
       "      <th>order_details_id</th>\n",
       "      <th>order_id</th>\n",
       "      <th>pizza_id</th>\n",
       "      <th>quantity</th>\n",
       "    </tr>\n",
       "  </thead>\n",
       "  <tbody>\n",
       "    <tr>\n",
       "      <th>0</th>\n",
       "      <td>1</td>\n",
       "      <td>1</td>\n",
       "      <td>hawaiian_m</td>\n",
       "      <td>1</td>\n",
       "    </tr>\n",
       "    <tr>\n",
       "      <th>1</th>\n",
       "      <td>2</td>\n",
       "      <td>2</td>\n",
       "      <td>classic_dlx_m</td>\n",
       "      <td>1</td>\n",
       "    </tr>\n",
       "    <tr>\n",
       "      <th>2</th>\n",
       "      <td>3</td>\n",
       "      <td>2</td>\n",
       "      <td>five_cheese_l</td>\n",
       "      <td>1</td>\n",
       "    </tr>\n",
       "    <tr>\n",
       "      <th>3</th>\n",
       "      <td>4</td>\n",
       "      <td>2</td>\n",
       "      <td>ital_supr_l</td>\n",
       "      <td>1</td>\n",
       "    </tr>\n",
       "    <tr>\n",
       "      <th>4</th>\n",
       "      <td>5</td>\n",
       "      <td>2</td>\n",
       "      <td>mexicana_m</td>\n",
       "      <td>1</td>\n",
       "    </tr>\n",
       "  </tbody>\n",
       "</table>\n",
       "</div>"
      ],
      "text/plain": [
       "   order_details_id  order_id       pizza_id  quantity\n",
       "0                 1         1     hawaiian_m         1\n",
       "1                 2         2  classic_dlx_m         1\n",
       "2                 3         2  five_cheese_l         1\n",
       "3                 4         2    ital_supr_l         1\n",
       "4                 5         2     mexicana_m         1"
      ]
     },
     "execution_count": 11,
     "metadata": {},
     "output_type": "execute_result"
    }
   ],
   "source": [
    "order_details = pd.read_csv(\"order_details.csv\")\n",
    "order_details.head()\n",
    "\n"
   ]
  },
  {
   "cell_type": "code",
   "execution_count": 12,
   "id": "cd51e3c8-b1da-40e2-9485-f69d52399069",
   "metadata": {},
   "outputs": [
    {
     "data": {
      "text/html": [
       "<div>\n",
       "<style scoped>\n",
       "    .dataframe tbody tr th:only-of-type {\n",
       "        vertical-align: middle;\n",
       "    }\n",
       "\n",
       "    .dataframe tbody tr th {\n",
       "        vertical-align: top;\n",
       "    }\n",
       "\n",
       "    .dataframe thead th {\n",
       "        text-align: right;\n",
       "    }\n",
       "</style>\n",
       "<table border=\"1\" class=\"dataframe\">\n",
       "  <thead>\n",
       "    <tr style=\"text-align: right;\">\n",
       "      <th></th>\n",
       "      <th>pizza_type_id</th>\n",
       "      <th>name</th>\n",
       "      <th>category</th>\n",
       "      <th>ingredients</th>\n",
       "    </tr>\n",
       "  </thead>\n",
       "  <tbody>\n",
       "    <tr>\n",
       "      <th>0</th>\n",
       "      <td>bbq_ckn</td>\n",
       "      <td>The Barbecue Chicken Pizza</td>\n",
       "      <td>Chicken</td>\n",
       "      <td>Barbecued Chicken, Red Peppers, Green Peppers,...</td>\n",
       "    </tr>\n",
       "    <tr>\n",
       "      <th>1</th>\n",
       "      <td>cali_ckn</td>\n",
       "      <td>The California Chicken Pizza</td>\n",
       "      <td>Chicken</td>\n",
       "      <td>Chicken, Artichoke, Spinach, Garlic, Jalapeno ...</td>\n",
       "    </tr>\n",
       "    <tr>\n",
       "      <th>2</th>\n",
       "      <td>ckn_alfredo</td>\n",
       "      <td>The Chicken Alfredo Pizza</td>\n",
       "      <td>Chicken</td>\n",
       "      <td>Chicken, Red Onions, Red Peppers, Mushrooms, A...</td>\n",
       "    </tr>\n",
       "    <tr>\n",
       "      <th>3</th>\n",
       "      <td>ckn_pesto</td>\n",
       "      <td>The Chicken Pesto Pizza</td>\n",
       "      <td>Chicken</td>\n",
       "      <td>Chicken, Tomatoes, Red Peppers, Spinach, Garli...</td>\n",
       "    </tr>\n",
       "    <tr>\n",
       "      <th>4</th>\n",
       "      <td>southw_ckn</td>\n",
       "      <td>The Southwest Chicken Pizza</td>\n",
       "      <td>Chicken</td>\n",
       "      <td>Chicken, Tomatoes, Red Peppers, Red Onions, Ja...</td>\n",
       "    </tr>\n",
       "  </tbody>\n",
       "</table>\n",
       "</div>"
      ],
      "text/plain": [
       "  pizza_type_id                          name category  \\\n",
       "0       bbq_ckn    The Barbecue Chicken Pizza  Chicken   \n",
       "1      cali_ckn  The California Chicken Pizza  Chicken   \n",
       "2   ckn_alfredo     The Chicken Alfredo Pizza  Chicken   \n",
       "3     ckn_pesto       The Chicken Pesto Pizza  Chicken   \n",
       "4    southw_ckn   The Southwest Chicken Pizza  Chicken   \n",
       "\n",
       "                                         ingredients  \n",
       "0  Barbecued Chicken, Red Peppers, Green Peppers,...  \n",
       "1  Chicken, Artichoke, Spinach, Garlic, Jalapeno ...  \n",
       "2  Chicken, Red Onions, Red Peppers, Mushrooms, A...  \n",
       "3  Chicken, Tomatoes, Red Peppers, Spinach, Garli...  \n",
       "4  Chicken, Tomatoes, Red Peppers, Red Onions, Ja...  "
      ]
     },
     "execution_count": 12,
     "metadata": {},
     "output_type": "execute_result"
    }
   ],
   "source": [
    "pizza_types = pd.read_csv(\"pizza_types.csv\",encoding_errors= 'replace')\n",
    "pizza_types.head()\n",
    "\n"
   ]
  },
  {
   "cell_type": "code",
   "execution_count": 13,
   "id": "3170adb4-8041-4357-af2a-dd7c8d9a45df",
   "metadata": {},
   "outputs": [
    {
     "data": {
      "text/html": [
       "<div>\n",
       "<style scoped>\n",
       "    .dataframe tbody tr th:only-of-type {\n",
       "        vertical-align: middle;\n",
       "    }\n",
       "\n",
       "    .dataframe tbody tr th {\n",
       "        vertical-align: top;\n",
       "    }\n",
       "\n",
       "    .dataframe thead th {\n",
       "        text-align: right;\n",
       "    }\n",
       "</style>\n",
       "<table border=\"1\" class=\"dataframe\">\n",
       "  <thead>\n",
       "    <tr style=\"text-align: right;\">\n",
       "      <th></th>\n",
       "      <th>pizza_id</th>\n",
       "      <th>pizza_type_id</th>\n",
       "      <th>size</th>\n",
       "      <th>price</th>\n",
       "    </tr>\n",
       "  </thead>\n",
       "  <tbody>\n",
       "    <tr>\n",
       "      <th>0</th>\n",
       "      <td>bbq_ckn_s</td>\n",
       "      <td>bbq_ckn</td>\n",
       "      <td>S</td>\n",
       "      <td>12.75</td>\n",
       "    </tr>\n",
       "    <tr>\n",
       "      <th>1</th>\n",
       "      <td>bbq_ckn_m</td>\n",
       "      <td>bbq_ckn</td>\n",
       "      <td>M</td>\n",
       "      <td>16.75</td>\n",
       "    </tr>\n",
       "    <tr>\n",
       "      <th>2</th>\n",
       "      <td>bbq_ckn_l</td>\n",
       "      <td>bbq_ckn</td>\n",
       "      <td>L</td>\n",
       "      <td>20.75</td>\n",
       "    </tr>\n",
       "    <tr>\n",
       "      <th>3</th>\n",
       "      <td>cali_ckn_s</td>\n",
       "      <td>cali_ckn</td>\n",
       "      <td>S</td>\n",
       "      <td>12.75</td>\n",
       "    </tr>\n",
       "    <tr>\n",
       "      <th>4</th>\n",
       "      <td>cali_ckn_m</td>\n",
       "      <td>cali_ckn</td>\n",
       "      <td>M</td>\n",
       "      <td>16.75</td>\n",
       "    </tr>\n",
       "  </tbody>\n",
       "</table>\n",
       "</div>"
      ],
      "text/plain": [
       "     pizza_id pizza_type_id size  price\n",
       "0   bbq_ckn_s       bbq_ckn    S  12.75\n",
       "1   bbq_ckn_m       bbq_ckn    M  16.75\n",
       "2   bbq_ckn_l       bbq_ckn    L  20.75\n",
       "3  cali_ckn_s      cali_ckn    S  12.75\n",
       "4  cali_ckn_m      cali_ckn    M  16.75"
      ]
     },
     "execution_count": 13,
     "metadata": {},
     "output_type": "execute_result"
    }
   ],
   "source": [
    "pizzas = pd.read_csv(\"pizzas.csv\")\n",
    "pizzas.head()"
   ]
  },
  {
   "cell_type": "markdown",
   "id": "f803229f-beff-4bbb-a10b-8f279b2275fd",
   "metadata": {},
   "source": [
    "# Inspecting Data"
   ]
  },
  {
   "cell_type": "code",
   "execution_count": 14,
   "id": "eede8c5f-0a40-44ed-bc79-c80b667b556c",
   "metadata": {},
   "outputs": [
    {
     "name": "stdout",
     "output_type": "stream",
     "text": [
      "<class 'pandas.core.frame.DataFrame'>\n",
      "RangeIndex: 21350 entries, 0 to 21349\n",
      "Data columns (total 3 columns):\n",
      " #   Column    Non-Null Count  Dtype \n",
      "---  ------    --------------  ----- \n",
      " 0   order_id  21350 non-null  int64 \n",
      " 1   date      21350 non-null  object\n",
      " 2   time      21350 non-null  object\n",
      "dtypes: int64(1), object(2)\n",
      "memory usage: 500.5+ KB\n"
     ]
    }
   ],
   "source": [
    "orders.info()"
   ]
  },
  {
   "cell_type": "code",
   "execution_count": 17,
   "id": "f8b3b0d4-8b7a-4f79-b1e1-b916036415ba",
   "metadata": {},
   "outputs": [
    {
     "name": "stdout",
     "output_type": "stream",
     "text": [
      "<class 'pandas.core.frame.DataFrame'>\n",
      "RangeIndex: 48620 entries, 0 to 48619\n",
      "Data columns (total 4 columns):\n",
      " #   Column            Non-Null Count  Dtype \n",
      "---  ------            --------------  ----- \n",
      " 0   order_details_id  48620 non-null  int64 \n",
      " 1   order_id          48620 non-null  int64 \n",
      " 2   pizza_id          48620 non-null  object\n",
      " 3   quantity          48620 non-null  int64 \n",
      "dtypes: int64(3), object(1)\n",
      "memory usage: 1.5+ MB\n"
     ]
    }
   ],
   "source": [
    "order_details.info()"
   ]
  },
  {
   "cell_type": "code",
   "execution_count": 18,
   "id": "1ad5db4d-f695-4de0-b1c1-22d778567972",
   "metadata": {},
   "outputs": [
    {
     "name": "stdout",
     "output_type": "stream",
     "text": [
      "<class 'pandas.core.frame.DataFrame'>\n",
      "RangeIndex: 32 entries, 0 to 31\n",
      "Data columns (total 4 columns):\n",
      " #   Column         Non-Null Count  Dtype \n",
      "---  ------         --------------  ----- \n",
      " 0   pizza_type_id  32 non-null     object\n",
      " 1   name           32 non-null     object\n",
      " 2   category       32 non-null     object\n",
      " 3   ingredients    32 non-null     object\n",
      "dtypes: object(4)\n",
      "memory usage: 1.1+ KB\n"
     ]
    }
   ],
   "source": [
    "pizza_types.info()"
   ]
  },
  {
   "cell_type": "code",
   "execution_count": 19,
   "id": "e787c44d-bcbc-48bd-aba9-b402a77409e4",
   "metadata": {},
   "outputs": [
    {
     "name": "stdout",
     "output_type": "stream",
     "text": [
      "<class 'pandas.core.frame.DataFrame'>\n",
      "RangeIndex: 96 entries, 0 to 95\n",
      "Data columns (total 4 columns):\n",
      " #   Column         Non-Null Count  Dtype  \n",
      "---  ------         --------------  -----  \n",
      " 0   pizza_id       96 non-null     object \n",
      " 1   pizza_type_id  96 non-null     object \n",
      " 2   size           96 non-null     object \n",
      " 3   price          96 non-null     float64\n",
      "dtypes: float64(1), object(3)\n",
      "memory usage: 3.1+ KB\n"
     ]
    }
   ],
   "source": [
    "pizzas.info()"
   ]
  },
  {
   "cell_type": "markdown",
   "id": "fa00f220-1d1d-4eed-9c0c-78127bd5b75c",
   "metadata": {},
   "source": [
    "# Data Cleaning and Processing"
   ]
  },
  {
   "cell_type": "code",
   "execution_count": 20,
   "id": "7869f9bc-99e7-449e-8a44-9e8ac01014df",
   "metadata": {},
   "outputs": [
    {
     "name": "stderr",
     "output_type": "stream",
     "text": [
      "C:\\Users\\Ishank\\AppData\\Local\\Temp\\ipykernel_1804\\852181070.py:2: UserWarning: Could not infer format, so each element will be parsed individually, falling back to `dateutil`. To ensure parsing is consistent and as-expected, please specify a format.\n",
      "  orders[\"time\"] = orders[\"time\"].astype(\"datetime64[ns]\")\n"
     ]
    }
   ],
   "source": [
    "orders[\"date\"] = orders[\"date\"].astype(\"datetime64[ns]\")\n",
    "orders[\"time\"] = orders[\"time\"].astype(\"datetime64[ns]\")"
   ]
  },
  {
   "cell_type": "code",
   "execution_count": 21,
   "id": "127dd99a-2a8f-4805-b92d-0923dfd26e1d",
   "metadata": {},
   "outputs": [
    {
     "data": {
      "text/html": [
       "<div>\n",
       "<style scoped>\n",
       "    .dataframe tbody tr th:only-of-type {\n",
       "        vertical-align: middle;\n",
       "    }\n",
       "\n",
       "    .dataframe tbody tr th {\n",
       "        vertical-align: top;\n",
       "    }\n",
       "\n",
       "    .dataframe thead th {\n",
       "        text-align: right;\n",
       "    }\n",
       "</style>\n",
       "<table border=\"1\" class=\"dataframe\">\n",
       "  <thead>\n",
       "    <tr style=\"text-align: right;\">\n",
       "      <th></th>\n",
       "      <th>order_id</th>\n",
       "      <th>date</th>\n",
       "      <th>time</th>\n",
       "      <th>day</th>\n",
       "      <th>order_time(hr)</th>\n",
       "    </tr>\n",
       "  </thead>\n",
       "  <tbody>\n",
       "    <tr>\n",
       "      <th>0</th>\n",
       "      <td>1</td>\n",
       "      <td>2015-01-01</td>\n",
       "      <td>2023-12-24 11:38:36</td>\n",
       "      <td>Thursday</td>\n",
       "      <td>11</td>\n",
       "    </tr>\n",
       "    <tr>\n",
       "      <th>1</th>\n",
       "      <td>2</td>\n",
       "      <td>2015-01-01</td>\n",
       "      <td>2023-12-24 11:57:40</td>\n",
       "      <td>Thursday</td>\n",
       "      <td>11</td>\n",
       "    </tr>\n",
       "  </tbody>\n",
       "</table>\n",
       "</div>"
      ],
      "text/plain": [
       "   order_id       date                time       day order_time(hr)\n",
       "0         1 2015-01-01 2023-12-24 11:38:36  Thursday             11\n",
       "1         2 2015-01-01 2023-12-24 11:57:40  Thursday             11"
      ]
     },
     "execution_count": 21,
     "metadata": {},
     "output_type": "execute_result"
    }
   ],
   "source": [
    "orders[\"day\"] = orders[\"date\"].dt.strftime(\"%A\")\n",
    "orders[\"order_time(hr)\"] = orders[\"time\"].dt.strftime(\"%H\")\n",
    "orders.head(2)"
   ]
  },
  {
   "cell_type": "code",
   "execution_count": 22,
   "id": "39d3387e-a4e1-483a-ae22-f395cbf168b2",
   "metadata": {},
   "outputs": [
    {
     "data": {
      "text/html": [
       "<div>\n",
       "<style scoped>\n",
       "    .dataframe tbody tr th:only-of-type {\n",
       "        vertical-align: middle;\n",
       "    }\n",
       "\n",
       "    .dataframe tbody tr th {\n",
       "        vertical-align: top;\n",
       "    }\n",
       "\n",
       "    .dataframe thead th {\n",
       "        text-align: right;\n",
       "    }\n",
       "</style>\n",
       "<table border=\"1\" class=\"dataframe\">\n",
       "  <thead>\n",
       "    <tr style=\"text-align: right;\">\n",
       "      <th></th>\n",
       "      <th>order_details_id</th>\n",
       "      <th>order_id</th>\n",
       "      <th>pizza_id</th>\n",
       "      <th>quantity</th>\n",
       "      <th>pizza_type_id</th>\n",
       "      <th>size</th>\n",
       "      <th>price</th>\n",
       "    </tr>\n",
       "  </thead>\n",
       "  <tbody>\n",
       "    <tr>\n",
       "      <th>0</th>\n",
       "      <td>1</td>\n",
       "      <td>1</td>\n",
       "      <td>hawaiian_m</td>\n",
       "      <td>1</td>\n",
       "      <td>hawaiian</td>\n",
       "      <td>M</td>\n",
       "      <td>13.25</td>\n",
       "    </tr>\n",
       "    <tr>\n",
       "      <th>1</th>\n",
       "      <td>179</td>\n",
       "      <td>77</td>\n",
       "      <td>hawaiian_m</td>\n",
       "      <td>1</td>\n",
       "      <td>hawaiian</td>\n",
       "      <td>M</td>\n",
       "      <td>13.25</td>\n",
       "    </tr>\n",
       "    <tr>\n",
       "      <th>2</th>\n",
       "      <td>357</td>\n",
       "      <td>146</td>\n",
       "      <td>hawaiian_m</td>\n",
       "      <td>1</td>\n",
       "      <td>hawaiian</td>\n",
       "      <td>M</td>\n",
       "      <td>13.25</td>\n",
       "    </tr>\n",
       "    <tr>\n",
       "      <th>3</th>\n",
       "      <td>389</td>\n",
       "      <td>163</td>\n",
       "      <td>hawaiian_m</td>\n",
       "      <td>1</td>\n",
       "      <td>hawaiian</td>\n",
       "      <td>M</td>\n",
       "      <td>13.25</td>\n",
       "    </tr>\n",
       "    <tr>\n",
       "      <th>4</th>\n",
       "      <td>568</td>\n",
       "      <td>247</td>\n",
       "      <td>hawaiian_m</td>\n",
       "      <td>1</td>\n",
       "      <td>hawaiian</td>\n",
       "      <td>M</td>\n",
       "      <td>13.25</td>\n",
       "    </tr>\n",
       "  </tbody>\n",
       "</table>\n",
       "</div>"
      ],
      "text/plain": [
       "   order_details_id  order_id    pizza_id  quantity pizza_type_id size  price\n",
       "0                 1         1  hawaiian_m         1      hawaiian    M  13.25\n",
       "1               179        77  hawaiian_m         1      hawaiian    M  13.25\n",
       "2               357       146  hawaiian_m         1      hawaiian    M  13.25\n",
       "3               389       163  hawaiian_m         1      hawaiian    M  13.25\n",
       "4               568       247  hawaiian_m         1      hawaiian    M  13.25"
      ]
     },
     "execution_count": 22,
     "metadata": {},
     "output_type": "execute_result"
    }
   ],
   "source": [
    "total_df = pd.merge(left = order_details, right = pizzas, on = \"pizza_id\", how = \"inner\")\n",
    "total_df.head(5)"
   ]
  },
  {
   "cell_type": "markdown",
   "id": "c8a79f1b-4d77-4143-a323-93016be9984e",
   "metadata": {},
   "source": [
    "# Data visualization"
   ]
  },
  {
   "cell_type": "markdown",
   "id": "208d67b8-6994-43af-af50-82bd61928215",
   "metadata": {},
   "source": [
    "# Q1. Total sales"
   ]
  },
  {
   "cell_type": "code",
   "execution_count": 24,
   "id": "afef8052-7efd-4152-917c-0efa95dd3bfe",
   "metadata": {},
   "outputs": [
    {
     "data": {
      "text/html": [
       "<div>\n",
       "<style scoped>\n",
       "    .dataframe tbody tr th:only-of-type {\n",
       "        vertical-align: middle;\n",
       "    }\n",
       "\n",
       "    .dataframe tbody tr th {\n",
       "        vertical-align: top;\n",
       "    }\n",
       "\n",
       "    .dataframe thead th {\n",
       "        text-align: right;\n",
       "    }\n",
       "</style>\n",
       "<table border=\"1\" class=\"dataframe\">\n",
       "  <thead>\n",
       "    <tr style=\"text-align: right;\">\n",
       "      <th></th>\n",
       "      <th>order_details_id</th>\n",
       "      <th>order_id</th>\n",
       "      <th>pizza_id</th>\n",
       "      <th>quantity</th>\n",
       "      <th>pizza_type_id</th>\n",
       "      <th>size</th>\n",
       "      <th>price</th>\n",
       "      <th>total_price</th>\n",
       "    </tr>\n",
       "  </thead>\n",
       "  <tbody>\n",
       "    <tr>\n",
       "      <th>0</th>\n",
       "      <td>1</td>\n",
       "      <td>1</td>\n",
       "      <td>hawaiian_m</td>\n",
       "      <td>1</td>\n",
       "      <td>hawaiian</td>\n",
       "      <td>M</td>\n",
       "      <td>13.25</td>\n",
       "      <td>13.25</td>\n",
       "    </tr>\n",
       "    <tr>\n",
       "      <th>1</th>\n",
       "      <td>179</td>\n",
       "      <td>77</td>\n",
       "      <td>hawaiian_m</td>\n",
       "      <td>1</td>\n",
       "      <td>hawaiian</td>\n",
       "      <td>M</td>\n",
       "      <td>13.25</td>\n",
       "      <td>13.25</td>\n",
       "    </tr>\n",
       "    <tr>\n",
       "      <th>2</th>\n",
       "      <td>357</td>\n",
       "      <td>146</td>\n",
       "      <td>hawaiian_m</td>\n",
       "      <td>1</td>\n",
       "      <td>hawaiian</td>\n",
       "      <td>M</td>\n",
       "      <td>13.25</td>\n",
       "      <td>13.25</td>\n",
       "    </tr>\n",
       "    <tr>\n",
       "      <th>3</th>\n",
       "      <td>389</td>\n",
       "      <td>163</td>\n",
       "      <td>hawaiian_m</td>\n",
       "      <td>1</td>\n",
       "      <td>hawaiian</td>\n",
       "      <td>M</td>\n",
       "      <td>13.25</td>\n",
       "      <td>13.25</td>\n",
       "    </tr>\n",
       "    <tr>\n",
       "      <th>4</th>\n",
       "      <td>568</td>\n",
       "      <td>247</td>\n",
       "      <td>hawaiian_m</td>\n",
       "      <td>1</td>\n",
       "      <td>hawaiian</td>\n",
       "      <td>M</td>\n",
       "      <td>13.25</td>\n",
       "      <td>13.25</td>\n",
       "    </tr>\n",
       "  </tbody>\n",
       "</table>\n",
       "</div>"
      ],
      "text/plain": [
       "   order_details_id  order_id    pizza_id  quantity pizza_type_id size  price  \\\n",
       "0                 1         1  hawaiian_m         1      hawaiian    M  13.25   \n",
       "1               179        77  hawaiian_m         1      hawaiian    M  13.25   \n",
       "2               357       146  hawaiian_m         1      hawaiian    M  13.25   \n",
       "3               389       163  hawaiian_m         1      hawaiian    M  13.25   \n",
       "4               568       247  hawaiian_m         1      hawaiian    M  13.25   \n",
       "\n",
       "   total_price  \n",
       "0        13.25  \n",
       "1        13.25  \n",
       "2        13.25  \n",
       "3        13.25  \n",
       "4        13.25  "
      ]
     },
     "execution_count": 24,
     "metadata": {},
     "output_type": "execute_result"
    }
   ],
   "source": [
    "total_df[\"total_price\"] = total_df[\"quantity\"] * total_df[\"price\"]\n",
    "total_df.head()"
   ]
  },
  {
   "cell_type": "code",
   "execution_count": 25,
   "id": "f3aeefee-9370-4f2d-8600-6699003cf1fa",
   "metadata": {},
   "outputs": [
    {
     "name": "stdout",
     "output_type": "stream",
     "text": [
      "Total pizza sales: 817860.0499999999\n"
     ]
    }
   ],
   "source": [
    "#total sales :\n",
    "print(\"Total pizza sales:\",total_df[\"total_price\"].sum())"
   ]
  },
  {
   "cell_type": "markdown",
   "id": "498783ce-1881-4bf4-baf1-f7bc8ee8ec09",
   "metadata": {},
   "source": [
    "# Q2. Identify which pizza is ordered the most"
   ]
  },
  {
   "cell_type": "code",
   "execution_count": 26,
   "id": "402a3edb-4fcf-44bd-aff8-b56ae1a74cd4",
   "metadata": {},
   "outputs": [
    {
     "data": {
      "text/html": [
       "<div>\n",
       "<style scoped>\n",
       "    .dataframe tbody tr th:only-of-type {\n",
       "        vertical-align: middle;\n",
       "    }\n",
       "\n",
       "    .dataframe tbody tr th {\n",
       "        vertical-align: top;\n",
       "    }\n",
       "\n",
       "    .dataframe thead th {\n",
       "        text-align: right;\n",
       "    }\n",
       "</style>\n",
       "<table border=\"1\" class=\"dataframe\">\n",
       "  <thead>\n",
       "    <tr style=\"text-align: right;\">\n",
       "      <th></th>\n",
       "      <th>order_details_id</th>\n",
       "      <th>order_id</th>\n",
       "      <th>pizza_id</th>\n",
       "      <th>quantity</th>\n",
       "      <th>pizza_type_id</th>\n",
       "      <th>size</th>\n",
       "      <th>price</th>\n",
       "      <th>total_price</th>\n",
       "      <th>name</th>\n",
       "      <th>category</th>\n",
       "      <th>ingredients</th>\n",
       "    </tr>\n",
       "  </thead>\n",
       "  <tbody>\n",
       "    <tr>\n",
       "      <th>0</th>\n",
       "      <td>1</td>\n",
       "      <td>1</td>\n",
       "      <td>hawaiian_m</td>\n",
       "      <td>1</td>\n",
       "      <td>hawaiian</td>\n",
       "      <td>M</td>\n",
       "      <td>13.25</td>\n",
       "      <td>13.25</td>\n",
       "      <td>The Hawaiian Pizza</td>\n",
       "      <td>Classic</td>\n",
       "      <td>Sliced Ham, Pineapple, Mozzarella Cheese</td>\n",
       "    </tr>\n",
       "    <tr>\n",
       "      <th>1</th>\n",
       "      <td>179</td>\n",
       "      <td>77</td>\n",
       "      <td>hawaiian_m</td>\n",
       "      <td>1</td>\n",
       "      <td>hawaiian</td>\n",
       "      <td>M</td>\n",
       "      <td>13.25</td>\n",
       "      <td>13.25</td>\n",
       "      <td>The Hawaiian Pizza</td>\n",
       "      <td>Classic</td>\n",
       "      <td>Sliced Ham, Pineapple, Mozzarella Cheese</td>\n",
       "    </tr>\n",
       "    <tr>\n",
       "      <th>2</th>\n",
       "      <td>357</td>\n",
       "      <td>146</td>\n",
       "      <td>hawaiian_m</td>\n",
       "      <td>1</td>\n",
       "      <td>hawaiian</td>\n",
       "      <td>M</td>\n",
       "      <td>13.25</td>\n",
       "      <td>13.25</td>\n",
       "      <td>The Hawaiian Pizza</td>\n",
       "      <td>Classic</td>\n",
       "      <td>Sliced Ham, Pineapple, Mozzarella Cheese</td>\n",
       "    </tr>\n",
       "    <tr>\n",
       "      <th>3</th>\n",
       "      <td>389</td>\n",
       "      <td>163</td>\n",
       "      <td>hawaiian_m</td>\n",
       "      <td>1</td>\n",
       "      <td>hawaiian</td>\n",
       "      <td>M</td>\n",
       "      <td>13.25</td>\n",
       "      <td>13.25</td>\n",
       "      <td>The Hawaiian Pizza</td>\n",
       "      <td>Classic</td>\n",
       "      <td>Sliced Ham, Pineapple, Mozzarella Cheese</td>\n",
       "    </tr>\n",
       "    <tr>\n",
       "      <th>4</th>\n",
       "      <td>568</td>\n",
       "      <td>247</td>\n",
       "      <td>hawaiian_m</td>\n",
       "      <td>1</td>\n",
       "      <td>hawaiian</td>\n",
       "      <td>M</td>\n",
       "      <td>13.25</td>\n",
       "      <td>13.25</td>\n",
       "      <td>The Hawaiian Pizza</td>\n",
       "      <td>Classic</td>\n",
       "      <td>Sliced Ham, Pineapple, Mozzarella Cheese</td>\n",
       "    </tr>\n",
       "  </tbody>\n",
       "</table>\n",
       "</div>"
      ],
      "text/plain": [
       "   order_details_id  order_id    pizza_id  quantity pizza_type_id size  price  \\\n",
       "0                 1         1  hawaiian_m         1      hawaiian    M  13.25   \n",
       "1               179        77  hawaiian_m         1      hawaiian    M  13.25   \n",
       "2               357       146  hawaiian_m         1      hawaiian    M  13.25   \n",
       "3               389       163  hawaiian_m         1      hawaiian    M  13.25   \n",
       "4               568       247  hawaiian_m         1      hawaiian    M  13.25   \n",
       "\n",
       "   total_price                name category  \\\n",
       "0        13.25  The Hawaiian Pizza  Classic   \n",
       "1        13.25  The Hawaiian Pizza  Classic   \n",
       "2        13.25  The Hawaiian Pizza  Classic   \n",
       "3        13.25  The Hawaiian Pizza  Classic   \n",
       "4        13.25  The Hawaiian Pizza  Classic   \n",
       "\n",
       "                                ingredients  \n",
       "0  Sliced Ham, Pineapple, Mozzarella Cheese  \n",
       "1  Sliced Ham, Pineapple, Mozzarella Cheese  \n",
       "2  Sliced Ham, Pineapple, Mozzarella Cheese  \n",
       "3  Sliced Ham, Pineapple, Mozzarella Cheese  \n",
       "4  Sliced Ham, Pineapple, Mozzarella Cheese  "
      ]
     },
     "execution_count": 26,
     "metadata": {},
     "output_type": "execute_result"
    }
   ],
   "source": [
    "pizza_orders = pd.merge(left = total_df, right = pizza_types, on = \"pizza_type_id\", how = \"inner\")\n",
    "pizza_orders.head()"
   ]
  },
  {
   "cell_type": "code",
   "execution_count": 27,
   "id": "179c8387-8b86-4ebb-8c9d-6ba8f982a217",
   "metadata": {},
   "outputs": [
    {
     "data": {
      "text/html": [
       "<div>\n",
       "<style scoped>\n",
       "    .dataframe tbody tr th:only-of-type {\n",
       "        vertical-align: middle;\n",
       "    }\n",
       "\n",
       "    .dataframe tbody tr th {\n",
       "        vertical-align: top;\n",
       "    }\n",
       "\n",
       "    .dataframe thead th {\n",
       "        text-align: right;\n",
       "    }\n",
       "</style>\n",
       "<table border=\"1\" class=\"dataframe\">\n",
       "  <thead>\n",
       "    <tr style=\"text-align: right;\">\n",
       "      <th></th>\n",
       "      <th>order_details_id</th>\n",
       "    </tr>\n",
       "    <tr>\n",
       "      <th>name</th>\n",
       "      <th></th>\n",
       "    </tr>\n",
       "  </thead>\n",
       "  <tbody>\n",
       "    <tr>\n",
       "      <th>The Barbecue Chicken Pizza</th>\n",
       "      <td>2372</td>\n",
       "    </tr>\n",
       "    <tr>\n",
       "      <th>The Big Meat Pizza</th>\n",
       "      <td>1811</td>\n",
       "    </tr>\n",
       "    <tr>\n",
       "      <th>The Brie Carre Pizza</th>\n",
       "      <td>480</td>\n",
       "    </tr>\n",
       "    <tr>\n",
       "      <th>The Calabrese Pizza</th>\n",
       "      <td>927</td>\n",
       "    </tr>\n",
       "    <tr>\n",
       "      <th>The California Chicken Pizza</th>\n",
       "      <td>2302</td>\n",
       "    </tr>\n",
       "    <tr>\n",
       "      <th>The Chicken Alfredo Pizza</th>\n",
       "      <td>980</td>\n",
       "    </tr>\n",
       "    <tr>\n",
       "      <th>The Chicken Pesto Pizza</th>\n",
       "      <td>961</td>\n",
       "    </tr>\n",
       "    <tr>\n",
       "      <th>The Classic Deluxe Pizza</th>\n",
       "      <td>2416</td>\n",
       "    </tr>\n",
       "    <tr>\n",
       "      <th>The Five Cheese Pizza</th>\n",
       "      <td>1359</td>\n",
       "    </tr>\n",
       "    <tr>\n",
       "      <th>The Four Cheese Pizza</th>\n",
       "      <td>1850</td>\n",
       "    </tr>\n",
       "    <tr>\n",
       "      <th>The Greek Pizza</th>\n",
       "      <td>1406</td>\n",
       "    </tr>\n",
       "    <tr>\n",
       "      <th>The Green Garden Pizza</th>\n",
       "      <td>987</td>\n",
       "    </tr>\n",
       "    <tr>\n",
       "      <th>The Hawaiian Pizza</th>\n",
       "      <td>2370</td>\n",
       "    </tr>\n",
       "    <tr>\n",
       "      <th>The Italian Capocollo Pizza</th>\n",
       "      <td>1414</td>\n",
       "    </tr>\n",
       "    <tr>\n",
       "      <th>The Italian Supreme Pizza</th>\n",
       "      <td>1849</td>\n",
       "    </tr>\n",
       "    <tr>\n",
       "      <th>The Italian Vegetables Pizza</th>\n",
       "      <td>975</td>\n",
       "    </tr>\n",
       "    <tr>\n",
       "      <th>The Mediterranean Pizza</th>\n",
       "      <td>923</td>\n",
       "    </tr>\n",
       "    <tr>\n",
       "      <th>The Mexicana Pizza</th>\n",
       "      <td>1456</td>\n",
       "    </tr>\n",
       "    <tr>\n",
       "      <th>The Napolitana Pizza</th>\n",
       "      <td>1451</td>\n",
       "    </tr>\n",
       "    <tr>\n",
       "      <th>The Pepper Salami Pizza</th>\n",
       "      <td>1422</td>\n",
       "    </tr>\n",
       "    <tr>\n",
       "      <th>The Pepperoni Pizza</th>\n",
       "      <td>2369</td>\n",
       "    </tr>\n",
       "    <tr>\n",
       "      <th>The Pepperoni, Mushroom, and Peppers Pizza</th>\n",
       "      <td>1342</td>\n",
       "    </tr>\n",
       "    <tr>\n",
       "      <th>The Prosciutto and Arugula Pizza</th>\n",
       "      <td>1428</td>\n",
       "    </tr>\n",
       "    <tr>\n",
       "      <th>The Sicilian Pizza</th>\n",
       "      <td>1887</td>\n",
       "    </tr>\n",
       "    <tr>\n",
       "      <th>The Soppressata Pizza</th>\n",
       "      <td>957</td>\n",
       "    </tr>\n",
       "    <tr>\n",
       "      <th>The Southwest Chicken Pizza</th>\n",
       "      <td>1885</td>\n",
       "    </tr>\n",
       "    <tr>\n",
       "      <th>The Spicy Italian Pizza</th>\n",
       "      <td>1887</td>\n",
       "    </tr>\n",
       "    <tr>\n",
       "      <th>The Spinach Pesto Pizza</th>\n",
       "      <td>957</td>\n",
       "    </tr>\n",
       "    <tr>\n",
       "      <th>The Spinach Supreme Pizza</th>\n",
       "      <td>940</td>\n",
       "    </tr>\n",
       "    <tr>\n",
       "      <th>The Spinach and Feta Pizza</th>\n",
       "      <td>1432</td>\n",
       "    </tr>\n",
       "    <tr>\n",
       "      <th>The Thai Chicken Pizza</th>\n",
       "      <td>2315</td>\n",
       "    </tr>\n",
       "    <tr>\n",
       "      <th>The Vegetables + Vegetables Pizza</th>\n",
       "      <td>1510</td>\n",
       "    </tr>\n",
       "  </tbody>\n",
       "</table>\n",
       "</div>"
      ],
      "text/plain": [
       "                                            order_details_id\n",
       "name                                                        \n",
       "The Barbecue Chicken Pizza                              2372\n",
       "The Big Meat Pizza                                      1811\n",
       "The Brie Carre Pizza                                     480\n",
       "The Calabrese Pizza                                      927\n",
       "The California Chicken Pizza                            2302\n",
       "The Chicken Alfredo Pizza                                980\n",
       "The Chicken Pesto Pizza                                  961\n",
       "The Classic Deluxe Pizza                                2416\n",
       "The Five Cheese Pizza                                   1359\n",
       "The Four Cheese Pizza                                   1850\n",
       "The Greek Pizza                                         1406\n",
       "The Green Garden Pizza                                   987\n",
       "The Hawaiian Pizza                                      2370\n",
       "The Italian Capocollo Pizza                             1414\n",
       "The Italian Supreme Pizza                               1849\n",
       "The Italian Vegetables Pizza                             975\n",
       "The Mediterranean Pizza                                  923\n",
       "The Mexicana Pizza                                      1456\n",
       "The Napolitana Pizza                                    1451\n",
       "The Pepper Salami Pizza                                 1422\n",
       "The Pepperoni Pizza                                     2369\n",
       "The Pepperoni, Mushroom, and Peppers Pizza              1342\n",
       "The Prosciutto and Arugula Pizza                        1428\n",
       "The Sicilian Pizza                                      1887\n",
       "The Soppressata Pizza                                    957\n",
       "The Southwest Chicken Pizza                             1885\n",
       "The Spicy Italian Pizza                                 1887\n",
       "The Spinach Pesto Pizza                                  957\n",
       "The Spinach Supreme Pizza                                940\n",
       "The Spinach and Feta Pizza                              1432\n",
       "The Thai Chicken Pizza                                  2315\n",
       "The Vegetables + Vegetables Pizza                       1510"
      ]
     },
     "execution_count": 27,
     "metadata": {},
     "output_type": "execute_result"
    }
   ],
   "source": [
    "#type --1\n",
    "gb = pizza_orders.groupby(\"name\").agg({\"order_details_id\":\"count\"})\n",
    "gb"
   ]
  },
  {
   "cell_type": "code",
   "execution_count": 28,
   "id": "7a6c7000-4f63-427a-a7f3-f2a3c7567d12",
   "metadata": {},
   "outputs": [
    {
     "name": "stdout",
     "output_type": "stream",
     "text": [
      "The most ordered pizza is: The Classic Deluxe Pizza\n"
     ]
    }
   ],
   "source": [
    "#The most ordered pizza :\n",
    "print(\"The most ordered pizza is:\",gb[\"order_details_id\"].idxmax())"
   ]
  },
  {
   "cell_type": "code",
   "execution_count": 29,
   "id": "7040b790-1266-4bed-ab1a-1763a34bc964",
   "metadata": {},
   "outputs": [
    {
     "data": {
      "text/plain": [
       "name\n",
       "The Classic Deluxe Pizza                      2416\n",
       "The Barbecue Chicken Pizza                    2372\n",
       "The Hawaiian Pizza                            2370\n",
       "The Pepperoni Pizza                           2369\n",
       "The Thai Chicken Pizza                        2315\n",
       "The California Chicken Pizza                  2302\n",
       "The Sicilian Pizza                            1887\n",
       "The Spicy Italian Pizza                       1887\n",
       "The Southwest Chicken Pizza                   1885\n",
       "The Four Cheese Pizza                         1850\n",
       "The Italian Supreme Pizza                     1849\n",
       "The Big Meat Pizza                            1811\n",
       "The Vegetables + Vegetables Pizza             1510\n",
       "The Mexicana Pizza                            1456\n",
       "The Napolitana Pizza                          1451\n",
       "The Spinach and Feta Pizza                    1432\n",
       "The Prosciutto and Arugula Pizza              1428\n",
       "The Pepper Salami Pizza                       1422\n",
       "The Italian Capocollo Pizza                   1414\n",
       "The Greek Pizza                               1406\n",
       "The Five Cheese Pizza                         1359\n",
       "The Pepperoni, Mushroom, and Peppers Pizza    1342\n",
       "The Green Garden Pizza                         987\n",
       "The Chicken Alfredo Pizza                      980\n",
       "The Italian Vegetables Pizza                   975\n",
       "The Chicken Pesto Pizza                        961\n",
       "The Spinach Pesto Pizza                        957\n",
       "The Soppressata Pizza                          957\n",
       "The Spinach Supreme Pizza                      940\n",
       "The Calabrese Pizza                            927\n",
       "The Mediterranean Pizza                        923\n",
       "The Brie Carre Pizza                           480\n",
       "Name: count, dtype: int64"
      ]
     },
     "execution_count": 29,
     "metadata": {},
     "output_type": "execute_result"
    }
   ],
   "source": [
    "#type - 2\n",
    "pizza_orders[\"name\"].value_counts()"
   ]
  },
  {
   "cell_type": "markdown",
   "id": "d1ca2419-dcc4-4e05-a8b4-0dea67913593",
   "metadata": {},
   "source": [
    "# Q3. Identify which pizza category is hotselling"
   ]
  },
  {
   "cell_type": "code",
   "execution_count": 30,
   "id": "56bf5802-4c0f-45b5-ae25-c35fcf2ff4cb",
   "metadata": {},
   "outputs": [
    {
     "data": {
      "text/html": [
       "<div>\n",
       "<style scoped>\n",
       "    .dataframe tbody tr th:only-of-type {\n",
       "        vertical-align: middle;\n",
       "    }\n",
       "\n",
       "    .dataframe tbody tr th {\n",
       "        vertical-align: top;\n",
       "    }\n",
       "\n",
       "    .dataframe thead th {\n",
       "        text-align: right;\n",
       "    }\n",
       "</style>\n",
       "<table border=\"1\" class=\"dataframe\">\n",
       "  <thead>\n",
       "    <tr style=\"text-align: right;\">\n",
       "      <th></th>\n",
       "      <th>order_id</th>\n",
       "    </tr>\n",
       "    <tr>\n",
       "      <th>category</th>\n",
       "      <th></th>\n",
       "    </tr>\n",
       "  </thead>\n",
       "  <tbody>\n",
       "    <tr>\n",
       "      <th>Chicken</th>\n",
       "      <td>10815</td>\n",
       "    </tr>\n",
       "    <tr>\n",
       "      <th>Classic</th>\n",
       "      <td>14579</td>\n",
       "    </tr>\n",
       "    <tr>\n",
       "      <th>Supreme</th>\n",
       "      <td>11777</td>\n",
       "    </tr>\n",
       "    <tr>\n",
       "      <th>Veggie</th>\n",
       "      <td>11449</td>\n",
       "    </tr>\n",
       "  </tbody>\n",
       "</table>\n",
       "</div>"
      ],
      "text/plain": [
       "          order_id\n",
       "category          \n",
       "Chicken      10815\n",
       "Classic      14579\n",
       "Supreme      11777\n",
       "Veggie       11449"
      ]
     },
     "execution_count": 30,
     "metadata": {},
     "output_type": "execute_result"
    }
   ],
   "source": [
    "#type--1\n",
    "gb = pizza_orders.groupby(\"category\").agg({\"order_id\":'count'})\n",
    "gb"
   ]
  },
  {
   "cell_type": "code",
   "execution_count": 31,
   "id": "254befd8-2ab4-477d-a522-33cb465635d6",
   "metadata": {},
   "outputs": [
    {
     "data": {
      "text/plain": [
       "category\n",
       "Classic    14579\n",
       "Supreme    11777\n",
       "Veggie     11449\n",
       "Chicken    10815\n",
       "Name: count, dtype: int64"
      ]
     },
     "execution_count": 31,
     "metadata": {},
     "output_type": "execute_result"
    }
   ],
   "source": [
    "#type--2\n",
    "pizza_orders[\"category\"].value_counts()"
   ]
  },
  {
   "cell_type": "code",
   "execution_count": 32,
   "id": "6803f747-3c54-462a-af47-3b5f1155902e",
   "metadata": {},
   "outputs": [
    {
     "name": "stdout",
     "output_type": "stream",
     "text": [
      "The hotselling pizza category is:  Classic\n"
     ]
    }
   ],
   "source": [
    "# Hotselling pizza category :\n",
    "print(\"The hotselling pizza category is: \",gb[\"order_id\"].idxmax())"
   ]
  },
  {
   "cell_type": "markdown",
   "id": "243f5139-4737-4f52-9d2f-40d63c151f9a",
   "metadata": {},
   "source": [
    "# Graphical representation of sales based on pizza category on Matplotlib"
   ]
  },
  {
   "cell_type": "code",
   "execution_count": 33,
   "id": "584c19af-1b2f-44db-ba12-642d89a47aa6",
   "metadata": {},
   "outputs": [
    {
     "data": {
      "image/png": "[encoded data removed]",
      "text/plain": [
       "<Figure size 640x480 with 1 Axes>"
      ]
     },
     "metadata": {},
     "output_type": "display_data"
    }
   ],
   "source": [
    "ex = [0,0.1,0,0]\n",
    "mp.pie(gb.order_id, labels = gb.index, autopct = \"%1.1f\", shadow = True, explode = ex)\n",
    "mp.title(\"Pizza sale (%)\")\n",
    "mp.show()"
   ]
  },
  {
   "cell_type": "markdown",
   "id": "646f0272-ddfc-4eb9-8362-4165ac3f7dea",
   "metadata": {},
   "source": [
    "# Q4. Identify which pizza is generating more sales"
   ]
  },
  {
   "cell_type": "code",
   "execution_count": 34,
   "id": "8de7a54b-84dd-4df7-8f6d-049e58136131",
   "metadata": {},
   "outputs": [
    {
     "data": {
      "text/html": [
       "<div>\n",
       "<style scoped>\n",
       "    .dataframe tbody tr th:only-of-type {\n",
       "        vertical-align: middle;\n",
       "    }\n",
       "\n",
       "    .dataframe tbody tr th {\n",
       "        vertical-align: top;\n",
       "    }\n",
       "\n",
       "    .dataframe thead th {\n",
       "        text-align: right;\n",
       "    }\n",
       "</style>\n",
       "<table border=\"1\" class=\"dataframe\">\n",
       "  <thead>\n",
       "    <tr style=\"text-align: right;\">\n",
       "      <th></th>\n",
       "      <th>total_price</th>\n",
       "    </tr>\n",
       "    <tr>\n",
       "      <th>name</th>\n",
       "      <th></th>\n",
       "    </tr>\n",
       "  </thead>\n",
       "  <tbody>\n",
       "    <tr>\n",
       "      <th>The Barbecue Chicken Pizza</th>\n",
       "      <td>42768.00</td>\n",
       "    </tr>\n",
       "    <tr>\n",
       "      <th>The Big Meat Pizza</th>\n",
       "      <td>22968.00</td>\n",
       "    </tr>\n",
       "    <tr>\n",
       "      <th>The Brie Carre Pizza</th>\n",
       "      <td>11588.50</td>\n",
       "    </tr>\n",
       "    <tr>\n",
       "      <th>The Calabrese Pizza</th>\n",
       "      <td>15934.25</td>\n",
       "    </tr>\n",
       "    <tr>\n",
       "      <th>The California Chicken Pizza</th>\n",
       "      <td>41409.50</td>\n",
       "    </tr>\n",
       "    <tr>\n",
       "      <th>The Chicken Alfredo Pizza</th>\n",
       "      <td>16900.25</td>\n",
       "    </tr>\n",
       "    <tr>\n",
       "      <th>The Chicken Pesto Pizza</th>\n",
       "      <td>16701.75</td>\n",
       "    </tr>\n",
       "    <tr>\n",
       "      <th>The Classic Deluxe Pizza</th>\n",
       "      <td>38180.50</td>\n",
       "    </tr>\n",
       "    <tr>\n",
       "      <th>The Five Cheese Pizza</th>\n",
       "      <td>26066.50</td>\n",
       "    </tr>\n",
       "    <tr>\n",
       "      <th>The Four Cheese Pizza</th>\n",
       "      <td>32265.70</td>\n",
       "    </tr>\n",
       "    <tr>\n",
       "      <th>The Greek Pizza</th>\n",
       "      <td>28454.10</td>\n",
       "    </tr>\n",
       "    <tr>\n",
       "      <th>The Green Garden Pizza</th>\n",
       "      <td>13955.75</td>\n",
       "    </tr>\n",
       "    <tr>\n",
       "      <th>The Hawaiian Pizza</th>\n",
       "      <td>32273.25</td>\n",
       "    </tr>\n",
       "    <tr>\n",
       "      <th>The Italian Capocollo Pizza</th>\n",
       "      <td>25094.00</td>\n",
       "    </tr>\n",
       "    <tr>\n",
       "      <th>The Italian Supreme Pizza</th>\n",
       "      <td>33476.75</td>\n",
       "    </tr>\n",
       "    <tr>\n",
       "      <th>The Italian Vegetables Pizza</th>\n",
       "      <td>16019.25</td>\n",
       "    </tr>\n",
       "    <tr>\n",
       "      <th>The Mediterranean Pizza</th>\n",
       "      <td>15360.50</td>\n",
       "    </tr>\n",
       "    <tr>\n",
       "      <th>The Mexicana Pizza</th>\n",
       "      <td>26780.75</td>\n",
       "    </tr>\n",
       "    <tr>\n",
       "      <th>The Napolitana Pizza</th>\n",
       "      <td>24087.00</td>\n",
       "    </tr>\n",
       "    <tr>\n",
       "      <th>The Pepper Salami Pizza</th>\n",
       "      <td>25529.00</td>\n",
       "    </tr>\n",
       "    <tr>\n",
       "      <th>The Pepperoni Pizza</th>\n",
       "      <td>30161.75</td>\n",
       "    </tr>\n",
       "    <tr>\n",
       "      <th>The Pepperoni, Mushroom, and Peppers Pizza</th>\n",
       "      <td>18834.50</td>\n",
       "    </tr>\n",
       "    <tr>\n",
       "      <th>The Prosciutto and Arugula Pizza</th>\n",
       "      <td>24193.25</td>\n",
       "    </tr>\n",
       "    <tr>\n",
       "      <th>The Sicilian Pizza</th>\n",
       "      <td>30940.50</td>\n",
       "    </tr>\n",
       "    <tr>\n",
       "      <th>The Soppressata Pizza</th>\n",
       "      <td>16425.75</td>\n",
       "    </tr>\n",
       "    <tr>\n",
       "      <th>The Southwest Chicken Pizza</th>\n",
       "      <td>34705.75</td>\n",
       "    </tr>\n",
       "    <tr>\n",
       "      <th>The Spicy Italian Pizza</th>\n",
       "      <td>34831.25</td>\n",
       "    </tr>\n",
       "    <tr>\n",
       "      <th>The Spinach Pesto Pizza</th>\n",
       "      <td>15596.00</td>\n",
       "    </tr>\n",
       "    <tr>\n",
       "      <th>The Spinach Supreme Pizza</th>\n",
       "      <td>15277.75</td>\n",
       "    </tr>\n",
       "    <tr>\n",
       "      <th>The Spinach and Feta Pizza</th>\n",
       "      <td>23271.25</td>\n",
       "    </tr>\n",
       "    <tr>\n",
       "      <th>The Thai Chicken Pizza</th>\n",
       "      <td>43434.25</td>\n",
       "    </tr>\n",
       "    <tr>\n",
       "      <th>The Vegetables + Vegetables Pizza</th>\n",
       "      <td>24374.75</td>\n",
       "    </tr>\n",
       "  </tbody>\n",
       "</table>\n",
       "</div>"
      ],
      "text/plain": [
       "                                            total_price\n",
       "name                                                   \n",
       "The Barbecue Chicken Pizza                     42768.00\n",
       "The Big Meat Pizza                             22968.00\n",
       "The Brie Carre Pizza                           11588.50\n",
       "The Calabrese Pizza                            15934.25\n",
       "The California Chicken Pizza                   41409.50\n",
       "The Chicken Alfredo Pizza                      16900.25\n",
       "The Chicken Pesto Pizza                        16701.75\n",
       "The Classic Deluxe Pizza                       38180.50\n",
       "The Five Cheese Pizza                          26066.50\n",
       "The Four Cheese Pizza                          32265.70\n",
       "The Greek Pizza                                28454.10\n",
       "The Green Garden Pizza                         13955.75\n",
       "The Hawaiian Pizza                             32273.25\n",
       "The Italian Capocollo Pizza                    25094.00\n",
       "The Italian Supreme Pizza                      33476.75\n",
       "The Italian Vegetables Pizza                   16019.25\n",
       "The Mediterranean Pizza                        15360.50\n",
       "The Mexicana Pizza                             26780.75\n",
       "The Napolitana Pizza                           24087.00\n",
       "The Pepper Salami Pizza                        25529.00\n",
       "The Pepperoni Pizza                            30161.75\n",
       "The Pepperoni, Mushroom, and Peppers Pizza     18834.50\n",
       "The Prosciutto and Arugula Pizza               24193.25\n",
       "The Sicilian Pizza                             30940.50\n",
       "The Soppressata Pizza                          16425.75\n",
       "The Southwest Chicken Pizza                    34705.75\n",
       "The Spicy Italian Pizza                        34831.25\n",
       "The Spinach Pesto Pizza                        15596.00\n",
       "The Spinach Supreme Pizza                      15277.75\n",
       "The Spinach and Feta Pizza                     23271.25\n",
       "The Thai Chicken Pizza                         43434.25\n",
       "The Vegetables + Vegetables Pizza              24374.75"
      ]
     },
     "execution_count": 34,
     "metadata": {},
     "output_type": "execute_result"
    }
   ],
   "source": [
    "gb = pizza_orders.groupby(\"name\").agg({\"total_price\":\"sum\"})\n",
    "gb"
   ]
  },
  {
   "cell_type": "code",
   "execution_count": 35,
   "id": "a46c31ac-806a-4a91-9273-b3e799ff1fa4",
   "metadata": {},
   "outputs": [
    {
     "name": "stdout",
     "output_type": "stream",
     "text": [
      "The Thai Chicken Pizza is generating more sales that is 43434.25\n"
     ]
    }
   ],
   "source": [
    "# more sales generating pizza :\n",
    "print(gb[\"total_price\"].idxmax(), \"is generating more sales that is 43434.25\")"
   ]
  },
  {
   "cell_type": "markdown",
   "id": "69757c2f-49d0-4426-b1f5-f31b940a0139",
   "metadata": {},
   "source": [
    "# Q5. Identify which day of the week we are getting the highest orders"
   ]
  },
  {
   "cell_type": "code",
   "execution_count": 37,
   "id": "9e32d9d1-8098-4b3e-89da-5be082825a7c",
   "metadata": {},
   "outputs": [
    {
     "data": {
      "text/html": [
       "<div>\n",
       "<style scoped>\n",
       "    .dataframe tbody tr th:only-of-type {\n",
       "        vertical-align: middle;\n",
       "    }\n",
       "\n",
       "    .dataframe tbody tr th {\n",
       "        vertical-align: top;\n",
       "    }\n",
       "\n",
       "    .dataframe thead th {\n",
       "        text-align: right;\n",
       "    }\n",
       "</style>\n",
       "<table border=\"1\" class=\"dataframe\">\n",
       "  <thead>\n",
       "    <tr style=\"text-align: right;\">\n",
       "      <th></th>\n",
       "      <th>order_id</th>\n",
       "    </tr>\n",
       "    <tr>\n",
       "      <th>day</th>\n",
       "      <th></th>\n",
       "    </tr>\n",
       "  </thead>\n",
       "  <tbody>\n",
       "    <tr>\n",
       "      <th>Friday</th>\n",
       "      <td>3538</td>\n",
       "    </tr>\n",
       "    <tr>\n",
       "      <th>Monday</th>\n",
       "      <td>2794</td>\n",
       "    </tr>\n",
       "    <tr>\n",
       "      <th>Saturday</th>\n",
       "      <td>3158</td>\n",
       "    </tr>\n",
       "    <tr>\n",
       "      <th>Sunday</th>\n",
       "      <td>2624</td>\n",
       "    </tr>\n",
       "    <tr>\n",
       "      <th>Thursday</th>\n",
       "      <td>3239</td>\n",
       "    </tr>\n",
       "    <tr>\n",
       "      <th>Tuesday</th>\n",
       "      <td>2973</td>\n",
       "    </tr>\n",
       "    <tr>\n",
       "      <th>Wednesday</th>\n",
       "      <td>3024</td>\n",
       "    </tr>\n",
       "  </tbody>\n",
       "</table>\n",
       "</div>"
      ],
      "text/plain": [
       "           order_id\n",
       "day                \n",
       "Friday         3538\n",
       "Monday         2794\n",
       "Saturday       3158\n",
       "Sunday         2624\n",
       "Thursday       3239\n",
       "Tuesday        2973\n",
       "Wednesday      3024"
      ]
     },
     "execution_count": 37,
     "metadata": {},
     "output_type": "execute_result"
    }
   ],
   "source": [
    "gb= orders.groupby(\"day\").agg({\"order_id\":\"count\"})\n",
    "gb"
   ]
  },
  {
   "cell_type": "code",
   "execution_count": 38,
   "id": "db4a7f35-9a2d-4901-ac52-b58aa639caac",
   "metadata": {},
   "outputs": [
    {
     "name": "stdout",
     "output_type": "stream",
     "text": [
      "On Friday we are getting the highest orders\n"
     ]
    }
   ],
   "source": [
    "#Highest orders day :\n",
    "print(\"On\", gb[\"order_id\"].idxmax(), \"we are getting the highest orders\")"
   ]
  },
  {
   "cell_type": "markdown",
   "id": "edbd8278-5224-445d-ba46-9f8321e5c998",
   "metadata": {},
   "source": [
    "# Graphical representation of orders distribution with the help of Matplotlib and seaborn"
   ]
  },
  {
   "cell_type": "code",
   "execution_count": 39,
   "id": "b012da50-6913-4ca4-a6e0-f1eb8105d479",
   "metadata": {},
   "outputs": [
    {
     "data": {
      "image/png": "[encoded data removed]",
      "text/plain": [
       "<Figure size 600x400 with 1 Axes>"
      ]
     },
     "metadata": {},
     "output_type": "display_data"
    }
   ],
   "source": [
    "mp.figure(figsize = (6,4))\n",
    "ax = sns.barplot(data = gb, x = gb.index, y = gb.order_id,order = (\"Sunday\", \"Monday\", \"Tuesday\", \"Wednesday\", \"Thursday\", \"Friday\",\"Saturday\"))\n",
    "ax.bar_label(ax.containers[0])\n",
    "mp.xticks(rotation = 45)\n",
    "mp.title(\"Daily order distribution\")\n",
    "mp.show()"
   ]
  },
  {
   "cell_type": "markdown",
   "id": "b0328d6f-f470-4893-bb57-fe3d95235727",
   "metadata": {},
   "source": [
    "# Q6. Identify the time at which we are getting highest orders and the time at which we are getting the lowest orders"
   ]
  },
  {
   "cell_type": "code",
   "execution_count": 40,
   "id": "3e95cc44-4dac-4c73-b966-702a8263bf51",
   "metadata": {},
   "outputs": [
    {
     "data": {
      "text/html": [
       "<div>\n",
       "<style scoped>\n",
       "    .dataframe tbody tr th:only-of-type {\n",
       "        vertical-align: middle;\n",
       "    }\n",
       "\n",
       "    .dataframe tbody tr th {\n",
       "        vertical-align: top;\n",
       "    }\n",
       "\n",
       "    .dataframe thead th {\n",
       "        text-align: right;\n",
       "    }\n",
       "</style>\n",
       "<table border=\"1\" class=\"dataframe\">\n",
       "  <thead>\n",
       "    <tr style=\"text-align: right;\">\n",
       "      <th></th>\n",
       "      <th>order_id</th>\n",
       "    </tr>\n",
       "    <tr>\n",
       "      <th>order_time(hr)</th>\n",
       "      <th></th>\n",
       "    </tr>\n",
       "  </thead>\n",
       "  <tbody>\n",
       "    <tr>\n",
       "      <th>09</th>\n",
       "      <td>1</td>\n",
       "    </tr>\n",
       "    <tr>\n",
       "      <th>10</th>\n",
       "      <td>8</td>\n",
       "    </tr>\n",
       "    <tr>\n",
       "      <th>11</th>\n",
       "      <td>1231</td>\n",
       "    </tr>\n",
       "    <tr>\n",
       "      <th>12</th>\n",
       "      <td>2520</td>\n",
       "    </tr>\n",
       "    <tr>\n",
       "      <th>13</th>\n",
       "      <td>2455</td>\n",
       "    </tr>\n",
       "    <tr>\n",
       "      <th>14</th>\n",
       "      <td>1472</td>\n",
       "    </tr>\n",
       "    <tr>\n",
       "      <th>15</th>\n",
       "      <td>1468</td>\n",
       "    </tr>\n",
       "    <tr>\n",
       "      <th>16</th>\n",
       "      <td>1920</td>\n",
       "    </tr>\n",
       "    <tr>\n",
       "      <th>17</th>\n",
       "      <td>2336</td>\n",
       "    </tr>\n",
       "    <tr>\n",
       "      <th>18</th>\n",
       "      <td>2399</td>\n",
       "    </tr>\n",
       "    <tr>\n",
       "      <th>19</th>\n",
       "      <td>2009</td>\n",
       "    </tr>\n",
       "    <tr>\n",
       "      <th>20</th>\n",
       "      <td>1642</td>\n",
       "    </tr>\n",
       "    <tr>\n",
       "      <th>21</th>\n",
       "      <td>1198</td>\n",
       "    </tr>\n",
       "    <tr>\n",
       "      <th>22</th>\n",
       "      <td>663</td>\n",
       "    </tr>\n",
       "    <tr>\n",
       "      <th>23</th>\n",
       "      <td>28</td>\n",
       "    </tr>\n",
       "  </tbody>\n",
       "</table>\n",
       "</div>"
      ],
      "text/plain": [
       "                order_id\n",
       "order_time(hr)          \n",
       "09                     1\n",
       "10                     8\n",
       "11                  1231\n",
       "12                  2520\n",
       "13                  2455\n",
       "14                  1472\n",
       "15                  1468\n",
       "16                  1920\n",
       "17                  2336\n",
       "18                  2399\n",
       "19                  2009\n",
       "20                  1642\n",
       "21                  1198\n",
       "22                   663\n",
       "23                    28"
      ]
     },
     "execution_count": 40,
     "metadata": {},
     "output_type": "execute_result"
    }
   ],
   "source": [
    "gb = orders.groupby(\"order_time(hr)\").agg({'order_id':'count'})\n",
    "gb"
   ]
  },
  {
   "cell_type": "code",
   "execution_count": 41,
   "id": "9c0e21b9-0c57-4faf-9ee2-88a488e1de7d",
   "metadata": {},
   "outputs": [
    {
     "name": "stdout",
     "output_type": "stream",
     "text": [
      "We are getting highest orders around 12\n"
     ]
    }
   ],
   "source": [
    "# Highest orders time:\n",
    "print(\"We are getting highest orders around\", gb[\"order_id\"].idxmax())"
   ]
  },
  {
   "cell_type": "code",
   "execution_count": 42,
   "id": "a1dc6b72-0dd3-4ed9-be44-480ef849fe70",
   "metadata": {},
   "outputs": [
    {
     "name": "stdout",
     "output_type": "stream",
     "text": [
      "We are getting lowest orders around 09\n"
     ]
    }
   ],
   "source": [
    "#lowest orders time:\n",
    "print(\"We are getting lowest orders around\",gb[\"order_id\"].idxmin())"
   ]
  },
  {
   "cell_type": "markdown",
   "id": "953f89e4-24b6-413a-874c-c26fd5b2d95f",
   "metadata": {},
   "source": [
    "# Graphical representation of orders based on time using Matplotlib"
   ]
  },
  {
   "cell_type": "code",
   "execution_count": 43,
   "id": "8e066a00-06a7-4c43-87f8-b4867ad12562",
   "metadata": {},
   "outputs": [
    {
     "data": {
      "image/png": "[encoded data removed]",
      "text/plain": [
       "<Figure size 640x480 with 1 Axes>"
      ]
     },
     "metadata": {},
     "output_type": "display_data"
    }
   ],
   "source": [
    "mp.plot(gb.index,gb.order_id, marker = \"o\", mec = 'black', mfc = 'red')\n",
    "mp.xlabel(\"Time\", fontsize = 14)\n",
    "mp.ylabel(\"Orders\",fontsize = 15)\n",
    "mp.title(\"Hourly order distribution\", c=\"g\", fontsize = 15)\n",
    "mp.show()"
   ]
  },
  {
   "cell_type": "markdown",
   "id": "739620fa-1bad-4547-807b-ffeb44693c56",
   "metadata": {},
   "source": [
    "# Q7. Identify at which time of the day, people are ordering more pizzas.(morning/evening/afternoon/night)"
   ]
  },
  {
   "cell_type": "code",
   "execution_count": 44,
   "id": "a1601118-e7d5-4c74-92c2-011981a1e8e2",
   "metadata": {},
   "outputs": [
    {
     "name": "stdout",
     "output_type": "stream",
     "text": [
      "<class 'pandas.core.frame.DataFrame'>\n",
      "RangeIndex: 21350 entries, 0 to 21349\n",
      "Data columns (total 5 columns):\n",
      " #   Column          Non-Null Count  Dtype         \n",
      "---  ------          --------------  -----         \n",
      " 0   order_id        21350 non-null  int64         \n",
      " 1   date            21350 non-null  datetime64[ns]\n",
      " 2   time            21350 non-null  datetime64[ns]\n",
      " 3   day             21350 non-null  object        \n",
      " 4   order_time(hr)  21350 non-null  int32         \n",
      "dtypes: datetime64[ns](2), int32(1), int64(1), object(1)\n",
      "memory usage: 750.7+ KB\n"
     ]
    }
   ],
   "source": [
    "orders['order_time(hr)'] = orders['order_time(hr)'].astype(int)\n",
    "orders.info()"
   ]
  },
  {
   "cell_type": "code",
   "execution_count": 45,
   "id": "1f4d7ce8-8e40-480f-8f1b-553b4b86a9ad",
   "metadata": {},
   "outputs": [
    {
     "name": "stderr",
     "output_type": "stream",
     "text": [
      "C:\\Users\\Ishank\\AppData\\Local\\Temp\\ipykernel_1804\\3200767617.py:1: FutureWarning: Setting an item of incompatible dtype is deprecated and will raise in a future error of pandas. Value 'morning' has dtype incompatible with float64, please explicitly cast to a compatible dtype first.\n",
      "  orders.loc[(orders['order_time(hr)']<12),'sales_window'] = \"morning\"\n"
     ]
    },
    {
     "data": {
      "text/html": [
       "<div>\n",
       "<style scoped>\n",
       "    .dataframe tbody tr th:only-of-type {\n",
       "        vertical-align: middle;\n",
       "    }\n",
       "\n",
       "    .dataframe tbody tr th {\n",
       "        vertical-align: top;\n",
       "    }\n",
       "\n",
       "    .dataframe thead th {\n",
       "        text-align: right;\n",
       "    }\n",
       "</style>\n",
       "<table border=\"1\" class=\"dataframe\">\n",
       "  <thead>\n",
       "    <tr style=\"text-align: right;\">\n",
       "      <th></th>\n",
       "      <th>order_id</th>\n",
       "      <th>date</th>\n",
       "      <th>time</th>\n",
       "      <th>day</th>\n",
       "      <th>order_time(hr)</th>\n",
       "      <th>sales_window</th>\n",
       "    </tr>\n",
       "  </thead>\n",
       "  <tbody>\n",
       "    <tr>\n",
       "      <th>0</th>\n",
       "      <td>1</td>\n",
       "      <td>2015-01-01</td>\n",
       "      <td>2023-12-24 11:38:36</td>\n",
       "      <td>Thursday</td>\n",
       "      <td>11</td>\n",
       "      <td>morning</td>\n",
       "    </tr>\n",
       "    <tr>\n",
       "      <th>1</th>\n",
       "      <td>2</td>\n",
       "      <td>2015-01-01</td>\n",
       "      <td>2023-12-24 11:57:40</td>\n",
       "      <td>Thursday</td>\n",
       "      <td>11</td>\n",
       "      <td>morning</td>\n",
       "    </tr>\n",
       "    <tr>\n",
       "      <th>2</th>\n",
       "      <td>3</td>\n",
       "      <td>2015-01-01</td>\n",
       "      <td>2023-12-24 12:12:28</td>\n",
       "      <td>Thursday</td>\n",
       "      <td>12</td>\n",
       "      <td>afternoon</td>\n",
       "    </tr>\n",
       "    <tr>\n",
       "      <th>3</th>\n",
       "      <td>4</td>\n",
       "      <td>2015-01-01</td>\n",
       "      <td>2023-12-24 12:16:31</td>\n",
       "      <td>Thursday</td>\n",
       "      <td>12</td>\n",
       "      <td>afternoon</td>\n",
       "    </tr>\n",
       "    <tr>\n",
       "      <th>4</th>\n",
       "      <td>5</td>\n",
       "      <td>2015-01-01</td>\n",
       "      <td>2023-12-24 12:21:30</td>\n",
       "      <td>Thursday</td>\n",
       "      <td>12</td>\n",
       "      <td>afternoon</td>\n",
       "    </tr>\n",
       "  </tbody>\n",
       "</table>\n",
       "</div>"
      ],
      "text/plain": [
       "   order_id       date                time       day  order_time(hr)  \\\n",
       "0         1 2015-01-01 2023-12-24 11:38:36  Thursday              11   \n",
       "1         2 2015-01-01 2023-12-24 11:57:40  Thursday              11   \n",
       "2         3 2015-01-01 2023-12-24 12:12:28  Thursday              12   \n",
       "3         4 2015-01-01 2023-12-24 12:16:31  Thursday              12   \n",
       "4         5 2015-01-01 2023-12-24 12:21:30  Thursday              12   \n",
       "\n",
       "  sales_window  \n",
       "0      morning  \n",
       "1      morning  \n",
       "2    afternoon  \n",
       "3    afternoon  \n",
       "4    afternoon  "
      ]
     },
     "execution_count": 45,
     "metadata": {},
     "output_type": "execute_result"
    }
   ],
   "source": [
    "orders.loc[(orders['order_time(hr)']<12),'sales_window'] = \"morning\"\n",
    "orders.loc[(orders['order_time(hr)']>=12),'sales_window'] = \"afternoon\"\n",
    "orders.loc[(orders['order_time(hr)']>=17),'sales_window'] = \"evening\"\n",
    "orders.loc[(orders['order_time(hr)']>=21),'sales_window'] = \"night\"\n",
    "orders.head()"
   ]
  },
  {
   "cell_type": "code",
   "execution_count": 46,
   "id": "63f77b4d-5d09-4dcd-81a4-41cf102a01bd",
   "metadata": {},
   "outputs": [
    {
     "data": {
      "text/html": [
       "<div>\n",
       "<style scoped>\n",
       "    .dataframe tbody tr th:only-of-type {\n",
       "        vertical-align: middle;\n",
       "    }\n",
       "\n",
       "    .dataframe tbody tr th {\n",
       "        vertical-align: top;\n",
       "    }\n",
       "\n",
       "    .dataframe thead th {\n",
       "        text-align: right;\n",
       "    }\n",
       "</style>\n",
       "<table border=\"1\" class=\"dataframe\">\n",
       "  <thead>\n",
       "    <tr style=\"text-align: right;\">\n",
       "      <th></th>\n",
       "      <th>order_id</th>\n",
       "    </tr>\n",
       "    <tr>\n",
       "      <th>sales_window</th>\n",
       "      <th></th>\n",
       "    </tr>\n",
       "  </thead>\n",
       "  <tbody>\n",
       "    <tr>\n",
       "      <th>afternoon</th>\n",
       "      <td>9835</td>\n",
       "    </tr>\n",
       "    <tr>\n",
       "      <th>evening</th>\n",
       "      <td>8386</td>\n",
       "    </tr>\n",
       "    <tr>\n",
       "      <th>morning</th>\n",
       "      <td>1240</td>\n",
       "    </tr>\n",
       "    <tr>\n",
       "      <th>night</th>\n",
       "      <td>1889</td>\n",
       "    </tr>\n",
       "  </tbody>\n",
       "</table>\n",
       "</div>"
      ],
      "text/plain": [
       "              order_id\n",
       "sales_window          \n",
       "afternoon         9835\n",
       "evening           8386\n",
       "morning           1240\n",
       "night             1889"
      ]
     },
     "execution_count": 46,
     "metadata": {},
     "output_type": "execute_result"
    }
   ],
   "source": [
    "gb = orders.groupby(\"sales_window\").agg({'order_id':'count'})\n",
    "gb"
   ]
  },
  {
   "cell_type": "code",
   "execution_count": 47,
   "id": "05956834-14b0-49bf-b6cc-3d200a7fb7c9",
   "metadata": {},
   "outputs": [
    {
     "name": "stdout",
     "output_type": "stream",
     "text": [
      "People are ordering more pizzas on: afternoon\n"
     ]
    }
   ],
   "source": [
    "# Pizza order based on shift time :\n",
    "print(\"People are ordering more pizzas on:\",gb['order_id'].idxmax())"
   ]
  },
  {
   "cell_type": "markdown",
   "id": "0b69364b-a7c0-4e1c-9963-1d94b30ca5f5",
   "metadata": {},
   "source": [
    "# Graphical representation of timeframe based pizza sales"
   ]
  },
  {
   "cell_type": "code",
   "execution_count": 48,
   "id": "186708ac-78ef-46a0-8e03-130bee90ab63",
   "metadata": {},
   "outputs": [
    {
     "data": {
      "image/png": "[encoded data removed]",
      "text/plain": [
       "<Figure size 640x480 with 1 Axes>"
      ]
     },
     "metadata": {},
     "output_type": "display_data"
    }
   ],
   "source": [
    "ex = [0.06,0,0,0]\n",
    "mp.pie(gb.order_id, labels = gb.index, explode = ex, autopct = \"%1.1f\", shadow = True)\n",
    "mp.title(\"Timeframe based sale(%)\")\n",
    "mp.show()"
   ]
  },
  {
   "cell_type": "code",
   "execution_count": null,
   "id": "4f70e2d8-0bf0-4091-a8b9-3d8066b92607",
   "metadata": {},
   "outputs": [],
   "source": []
  }
 ],
 "metadata": {
  "kernelspec": {
   "display_name": "Python 3 (ipykernel)",
   "language": "python",
   "name": "python3"
  },
  "language_info": {
   "codemirror_mode": {
    "name": "ipython",
    "version": 3
   },
   "file_extension": ".py",
   "mimetype": "text/x-python",
   "name": "python",
   "nbconvert_exporter": "python",
   "pygments_lexer": "ipython3",
   "version": "3.11.5"
  }
 },
 "nbformat": 4,
 "nbformat_minor": 5
}
